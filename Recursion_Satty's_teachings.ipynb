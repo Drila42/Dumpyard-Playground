{
  "nbformat": 4,
  "nbformat_minor": 0,
  "metadata": {
    "colab": {
      "name": "Recursion_Satty's teachings",
      "provenance": [],
      "collapsed_sections": [],
      "authorship_tag": "ABX9TyMLTs7pTdZLhZSPL8VV87jB",
      "include_colab_link": true
    },
    "kernelspec": {
      "name": "python3",
      "display_name": "Python 3"
    }
  },
  "cells": [
    {
      "cell_type": "markdown",
      "metadata": {
        "id": "view-in-github",
        "colab_type": "text"
      },
      "source": [
        "<a href=\"https://colab.research.google.com/github/Drila42/trial-1/blob/master/Recursion_Satty's_teachings.ipynb\" target=\"_parent\"><img src=\"https://colab.research.google.com/assets/colab-badge.svg\" alt=\"Open In Colab\"/></a>"
      ]
    },
    {
      "cell_type": "code",
      "metadata": {
        "id": "kyNgA9F-yTVF",
        "colab_type": "code",
        "colab": {
          "base_uri": "https://localhost:8080/",
          "height": 36
        },
        "outputId": "0ca1b0dd-a95b-44fb-d538-c3bd998ac981"
      },
      "source": [
        "\n",
        "def fact(x):\n",
        "\n",
        "  if x==0: \n",
        "    return 1\n",
        "\n",
        "  return x*fact(x-1) \n",
        "  \n",
        "e=fact(5)\n",
        "print(e)\n",
        "\n"
      ],
      "execution_count": 6,
      "outputs": [
        {
          "output_type": "stream",
          "text": [
            "120\n"
          ],
          "name": "stdout"
        }
      ]
    },
    {
      "cell_type": "code",
      "metadata": {
        "id": "yg8yx4FT7fEe",
        "colab_type": "code",
        "colab": {
          "base_uri": "https://localhost:8080/",
          "height": 36
        },
        "outputId": "e2e94cb9-2436-4a3c-eb35-fc932b86fef7"
      },
      "source": [
        "def fib(x):\n",
        "  if x==0:\n",
        "    return 0\n",
        "  if x==1:\n",
        "    return 1\n",
        "  return fib(x-1)+fib(x-2)\n",
        "\n",
        "print(fib(6))\n"
      ],
      "execution_count": 13,
      "outputs": [
        {
          "output_type": "stream",
          "text": [
            "8\n"
          ],
          "name": "stdout"
        }
      ]
    },
    {
      "cell_type": "code",
      "metadata": {
        "id": "FmmqGHOo9Jxb",
        "colab_type": "code",
        "colab": {}
      },
      "source": [
        "f5=f4+f3"
      ],
      "execution_count": 0,
      "outputs": []
    }
  ]
}