{
  "nbformat": 4,
  "nbformat_minor": 0,
  "metadata": {
    "colab": {
      "name": "Udemy01",
      "provenance": [],
      "authorship_tag": "ABX9TyPVV1Fv1DRazRcyAZ37zOkI",
      "include_colab_link": true
    },
    "kernelspec": {
      "name": "python3",
      "display_name": "Python 3"
    }
  },
  "cells": [
    {
      "cell_type": "markdown",
      "metadata": {
        "id": "view-in-github",
        "colab_type": "text"
      },
      "source": [
        "<a href=\"https://colab.research.google.com/github/Drila42/trial-1/blob/master/Udemy01.ipynb\" target=\"_parent\"><img src=\"https://colab.research.google.com/assets/colab-badge.svg\" alt=\"Open In Colab\"/></a>"
      ]
    },
    {
      "cell_type": "code",
      "metadata": {
        "id": "QQmVduPRErBc",
        "colab_type": "code",
        "colab": {
          "base_uri": "https://localhost:8080/",
          "height": 73
        },
        "outputId": "e95dfc45-9b5a-4dab-bfc2-5cabf1650dab"
      },
      "source": [
        "a=input(\"enter number:\")\n",
        "b=input(\"enter a value\")\n",
        "sum=a+b\n",
        "\n",
        "print(sum)"
      ],
      "execution_count": 3,
      "outputs": [
        {
          "output_type": "stream",
          "text": [
            "enter number:4\n",
            "enter a value5\n",
            "45\n"
          ],
          "name": "stdout"
        }
      ]
    },
    {
      "cell_type": "code",
      "metadata": {
        "id": "omQumfzqEzeU",
        "colab_type": "code",
        "colab": {
          "base_uri": "https://localhost:8080/",
          "height": 36
        },
        "outputId": "6d10e6ec-8b80-44d5-c2f3-3e55bc963239"
      },
      "source": [
        "type(sum)"
      ],
      "execution_count": 4,
      "outputs": [
        {
          "output_type": "execute_result",
          "data": {
            "text/plain": [
              "str"
            ]
          },
          "metadata": {
            "tags": []
          },
          "execution_count": 4
        }
      ]
    },
    {
      "cell_type": "markdown",
      "metadata": {
        "id": "IVT0_8zsF1lD",
        "colab_type": "text"
      },
      "source": [
        "# Exercise"
      ]
    },
    {
      "cell_type": "code",
      "metadata": {
        "id": "zeCh6KieF58b",
        "colab_type": "code",
        "colab": {
          "base_uri": "https://localhost:8080/",
          "height": 54
        },
        "outputId": "bf01fb8e-2ea7-4f3b-dd6c-612153597925"
      },
      "source": [
        "a=float(input(\"Enter value in kilometers:\"))\n",
        "val=float(a/1.609344)\n",
        "\n",
        "print(\"the answer is:\",val)"
      ],
      "execution_count": 6,
      "outputs": [
        {
          "output_type": "stream",
          "text": [
            "Enter value in kilometers:100\n",
            "the answer is: 62.13711922373339\n"
          ],
          "name": "stdout"
        }
      ]
    },
    {
      "cell_type": "code",
      "metadata": {
        "id": "6nCw9_6AGUKa",
        "colab_type": "code",
        "colab": {
          "base_uri": "https://localhost:8080/",
          "height": 36
        },
        "outputId": "2ab8dc44-f4c9-444b-fe99-6ad66c591d49"
      },
      "source": [
        "round(val,4)"
      ],
      "execution_count": 7,
      "outputs": [
        {
          "output_type": "execute_result",
          "data": {
            "text/plain": [
              "62.1371"
            ]
          },
          "metadata": {
            "tags": []
          },
          "execution_count": 7
        }
      ]
    },
    {
      "cell_type": "code",
      "metadata": {
        "id": "OjWYGdh7Gw7x",
        "colab_type": "code",
        "colab": {
          "base_uri": "https://localhost:8080/",
          "height": 36
        },
        "outputId": "7b2a158a-3c8a-4369-ccf0-7fbd02b186a7"
      },
      "source": [
        "s=\"meet\"\n",
        "\n",
        "print(s)"
      ],
      "execution_count": 8,
      "outputs": [
        {
          "output_type": "stream",
          "text": [
            "meet\n"
          ],
          "name": "stdout"
        }
      ]
    },
    {
      "cell_type": "code",
      "metadata": {
        "id": "DOyFptQmHvOo",
        "colab_type": "code",
        "colab": {
          "base_uri": "https://localhost:8080/",
          "height": 36
        },
        "outputId": "a0194894-1807-45fa-ef2e-9b504d78698d"
      },
      "source": [
        "a='she said-\"hello\".'\n",
        "print(a)"
      ],
      "execution_count": 10,
      "outputs": [
        {
          "output_type": "stream",
          "text": [
            "she said-\"hello\".\n"
          ],
          "name": "stdout"
        }
      ]
    },
    {
      "cell_type": "code",
      "metadata": {
        "id": "sVNMpdnvH1SX",
        "colab_type": "code",
        "colab": {
          "base_uri": "https://localhost:8080/",
          "height": 36
        },
        "outputId": "193f699b-e9be-44dc-8362-70b2036959e7"
      },
      "source": [
        "a[0] #prints the first character"
      ],
      "execution_count": 11,
      "outputs": [
        {
          "output_type": "execute_result",
          "data": {
            "text/plain": [
              "'s'"
            ]
          },
          "metadata": {
            "tags": []
          },
          "execution_count": 11
        }
      ]
    },
    {
      "cell_type": "code",
      "metadata": {
        "id": "CZA21qaFIS74",
        "colab_type": "code",
        "colab": {
          "base_uri": "https://localhost:8080/",
          "height": 36
        },
        "outputId": "291c56ee-2c56-4415-fa65-b5878115dc6c"
      },
      "source": [
        "a[-1] #prints the last character"
      ],
      "execution_count": 12,
      "outputs": [
        {
          "output_type": "execute_result",
          "data": {
            "text/plain": [
              "'.'"
            ]
          },
          "metadata": {
            "tags": []
          },
          "execution_count": 12
        }
      ]
    },
    {
      "cell_type": "markdown",
      "metadata": {
        "id": "YJD7dUEAJE90",
        "colab_type": "text"
      },
      "source": [
        "LENGTH OF A STRING"
      ]
    },
    {
      "cell_type": "code",
      "metadata": {
        "id": "I4Pf2jF-IVhW",
        "colab_type": "code",
        "colab": {
          "base_uri": "https://localhost:8080/",
          "height": 73
        },
        "outputId": "2569c1a7-cef7-4804-9846-52f8aa23202c"
      },
      "source": [
        "v=int(input())\n",
        "print(\"the num taken as input:\",v)\n",
        "x=str(v)\n",
        "lenx=len(x)\n",
        "print(\"the lengeth:\", lenx)\n"
      ],
      "execution_count": 15,
      "outputs": [
        {
          "output_type": "stream",
          "text": [
            "456\n",
            "the num taken as input: 456\n",
            "the lengeth: 3\n"
          ],
          "name": "stdout"
        }
      ]
    },
    {
      "cell_type": "markdown",
      "metadata": {
        "id": "JhAF1s9GJS1w",
        "colab_type": "text"
      },
      "source": [
        "HOW TO PRINT LAST CHARACTER OF  A STRING"
      ]
    },
    {
      "cell_type": "code",
      "metadata": {
        "id": "MTzWT5VLIrck",
        "colab_type": "code",
        "colab": {
          "base_uri": "https://localhost:8080/",
          "height": 54
        },
        "outputId": "709d5ff1-3f04-433a-f4f3-780b0e2892fb"
      },
      "source": [
        "\n",
        "a=input(\"the input:\")\n",
        "v=a[len(a)-1]\n",
        "print(\"the last character of the string is:\", v)"
      ],
      "execution_count": 16,
      "outputs": [
        {
          "output_type": "stream",
          "text": [
            "the input:my name is andy\n",
            "the last character of the string is: y\n"
          ],
          "name": "stdout"
        }
      ]
    },
    {
      "cell_type": "markdown",
      "metadata": {
        "id": "dtjYgph6KLHd",
        "colab_type": "text"
      },
      "source": [
        "## Slicing"
      ]
    },
    {
      "cell_type": "code",
      "metadata": {
        "id": "zrPRnQw2JwDz",
        "colab_type": "code",
        "colab": {
          "base_uri": "https://localhost:8080/",
          "height": 54
        },
        "outputId": "5ca5b50a-0ac4-4df1-826f-a16719c1b903"
      },
      "source": [
        "mystring=input(\"Give an input\")\n",
        "\n",
        "mystring[0:3] #shows the first 3 values from position 0, 1, 2"
      ],
      "execution_count": 17,
      "outputs": [
        {
          "output_type": "stream",
          "text": [
            "Give an input45678\n"
          ],
          "name": "stdout"
        },
        {
          "output_type": "execute_result",
          "data": {
            "text/plain": [
              "'456'"
            ]
          },
          "metadata": {
            "tags": []
          },
          "execution_count": 17
        }
      ]
    },
    {
      "cell_type": "code",
      "metadata": {
        "id": "oVFNu13VLHyC",
        "colab_type": "code",
        "colab": {
          "base_uri": "https://localhost:8080/",
          "height": 36
        },
        "outputId": "39ddc9e2-7359-4a56-e520-d7a35d7401fa"
      },
      "source": [
        "mystring[1:3] #shows the values from position 1,2"
      ],
      "execution_count": 18,
      "outputs": [
        {
          "output_type": "execute_result",
          "data": {
            "text/plain": [
              "'56'"
            ]
          },
          "metadata": {
            "tags": []
          },
          "execution_count": 18
        }
      ]
    },
    {
      "cell_type": "code",
      "metadata": {
        "id": "ShiFAVu2MHWt",
        "colab_type": "code",
        "colab": {
          "base_uri": "https://localhost:8080/",
          "height": 36
        },
        "outputId": "051117ae-a2cf-4ed1-bedc-bd7bd8722bc6"
      },
      "source": [
        "mystring[:3] #basically gives the same output as [0:3]"
      ],
      "execution_count": 19,
      "outputs": [
        {
          "output_type": "execute_result",
          "data": {
            "text/plain": [
              "'456'"
            ]
          },
          "metadata": {
            "tags": []
          },
          "execution_count": 19
        }
      ]
    },
    {
      "cell_type": "code",
      "metadata": {
        "id": "6SqQKC6lMLvW",
        "colab_type": "code",
        "colab": {
          "base_uri": "https://localhost:8080/",
          "height": 36
        },
        "outputId": "52c2ef19-b0be-45eb-c2fd-5334b4de45bc"
      },
      "source": [
        "mystring[-1] #shows the last position"
      ],
      "execution_count": 22,
      "outputs": [
        {
          "output_type": "execute_result",
          "data": {
            "text/plain": [
              "'8'"
            ]
          },
          "metadata": {
            "tags": []
          },
          "execution_count": 22
        }
      ]
    },
    {
      "cell_type": "code",
      "metadata": {
        "id": "dK1mKEu3MWRX",
        "colab_type": "code",
        "colab": {
          "base_uri": "https://localhost:8080/",
          "height": 36
        },
        "outputId": "4e00a55f-9c7c-4f7b-ad73-b7a48d5aad26"
      },
      "source": [
        "mystring[-3:-1] #shows position -3 and -2\n"
      ],
      "execution_count": 23,
      "outputs": [
        {
          "output_type": "execute_result",
          "data": {
            "text/plain": [
              "'67'"
            ]
          },
          "metadata": {
            "tags": []
          },
          "execution_count": 23
        }
      ]
    },
    {
      "cell_type": "code",
      "metadata": {
        "id": "0b6N-E7XMrYq",
        "colab_type": "code",
        "colab": {
          "base_uri": "https://localhost:8080/",
          "height": 36
        },
        "outputId": "4334bdff-fded-4532-8918-a20bad6d0626"
      },
      "source": [
        "mystring[-3:] #shows all the values from -3 till the end "
      ],
      "execution_count": 24,
      "outputs": [
        {
          "output_type": "execute_result",
          "data": {
            "text/plain": [
              "'678'"
            ]
          },
          "metadata": {
            "tags": []
          },
          "execution_count": 24
        }
      ]
    },
    {
      "cell_type": "markdown",
      "metadata": {
        "id": "u5doExGaNJMr",
        "colab_type": "text"
      },
      "source": [
        "## Concatenation"
      ]
    },
    {
      "cell_type": "code",
      "metadata": {
        "id": "4JZTo_8UMwmy",
        "colab_type": "code",
        "colab": {
          "base_uri": "https://localhost:8080/",
          "height": 36
        },
        "outputId": "539cf1cb-aa26-4553-8d57-a00c012d1fad"
      },
      "source": [
        "\"hello\" + \" \" + \"world\""
      ],
      "execution_count": 26,
      "outputs": [
        {
          "output_type": "execute_result",
          "data": {
            "text/plain": [
              "'hello world'"
            ]
          },
          "metadata": {
            "tags": []
          },
          "execution_count": 26
        }
      ]
    },
    {
      "cell_type": "markdown",
      "metadata": {
        "id": "5_FCrUsZNU2u",
        "colab_type": "text"
      },
      "source": [
        "2 strings can get concatenated \n",
        "\n",
        "but 1 string and 1 number cannot. \n",
        "\n",
        "eg"
      ]
    },
    {
      "cell_type": "code",
      "metadata": {
        "id": "ubld7RL6NE6l",
        "colab_type": "code",
        "colab": {
          "base_uri": "https://localhost:8080/",
          "height": 193
        },
        "outputId": "7114703c-94bc-4746-a695-3d0dbb0f5de3"
      },
      "source": [
        "\"hello\" + 22"
      ],
      "execution_count": 30,
      "outputs": [
        {
          "output_type": "error",
          "ename": "TypeError",
          "evalue": "ignored",
          "traceback": [
            "\u001b[0;31m---------------------------------------------------------------------------\u001b[0m",
            "\u001b[0;31mTypeError\u001b[0m                                 Traceback (most recent call last)",
            "\u001b[0;32m<ipython-input-30-1167d6da5858>\u001b[0m in \u001b[0;36m<module>\u001b[0;34m()\u001b[0m\n\u001b[0;32m----> 1\u001b[0;31m \u001b[0;34m\"hello\"\u001b[0m \u001b[0;34m+\u001b[0m \u001b[0;36m22\u001b[0m\u001b[0;34m\u001b[0m\u001b[0;34m\u001b[0m\u001b[0m\n\u001b[0m\u001b[1;32m      2\u001b[0m \u001b[0mnooooooooo\u001b[0m\u001b[0;34m\u001b[0m\u001b[0;34m\u001b[0m\u001b[0m\n",
            "\u001b[0;31mTypeError\u001b[0m: must be str, not int"
          ]
        }
      ]
    },
    {
      "cell_type": "markdown",
      "metadata": {
        "id": "Ef2mAXRlOcQ8",
        "colab_type": "text"
      },
      "source": [
        "in the above case the error occurs because a string cannot get concatenated with a number"
      ]
    },
    {
      "cell_type": "code",
      "metadata": {
        "id": "Z9HaqLKUNsqd",
        "colab_type": "code",
        "colab": {
          "base_uri": "https://localhost:8080/",
          "height": 36
        },
        "outputId": "fd81a1f8-0fc5-4477-f868-5105c73f0ecb"
      },
      "source": [
        "\"hello\"+str(22)"
      ],
      "execution_count": 31,
      "outputs": [
        {
          "output_type": "execute_result",
          "data": {
            "text/plain": [
              "'hello22'"
            ]
          },
          "metadata": {
            "tags": []
          },
          "execution_count": 31
        }
      ]
    },
    {
      "cell_type": "code",
      "metadata": {
        "id": "KBHDWWrDOpuD",
        "colab_type": "code",
        "colab": {}
      },
      "source": [
        ""
      ],
      "execution_count": 0,
      "outputs": []
    }
  ]
}