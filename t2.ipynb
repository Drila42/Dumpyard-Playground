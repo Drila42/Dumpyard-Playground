{
  "nbformat": 4,
  "nbformat_minor": 0,
  "metadata": {
    "colab": {
      "name": "t2",
      "provenance": [],
      "include_colab_link": true
    },
    "kernelspec": {
      "name": "python3",
      "display_name": "Python 3"
    }
  },
  "cells": [
    {
      "cell_type": "markdown",
      "metadata": {
        "id": "view-in-github",
        "colab_type": "text"
      },
      "source": [
        "<a href=\"https://colab.research.google.com/github/Drila42/trial-1/blob/master/t2.ipynb\" target=\"_parent\"><img src=\"https://colab.research.google.com/assets/colab-badge.svg\" alt=\"Open In Colab\"/></a>"
      ]
    },
    {
      "cell_type": "code",
      "metadata": {
        "id": "CEfpu1DDMd2-",
        "colab_type": "code",
        "colab": {}
      },
      "source": [
        "import pandas as pd\n",
        "import numpy as np\n",
        "\n"
      ],
      "execution_count": 0,
      "outputs": []
    },
    {
      "cell_type": "code",
      "metadata": {
        "id": "fRzjlrofSXOC",
        "colab_type": "code",
        "colab": {}
      },
      "source": [
        "a=pd.read_csv(\"https://docs.google.com/spreadsheets/d/e/2PACX-1vRLihyunHfmCtVC6GJxdon0Tdg6k74PyNQ9udsR5zE3om1-xaUKyNU4C81G9aHJIQ/pub?output=csv\")"
      ],
      "execution_count": 0,
      "outputs": []
    },
    {
      "cell_type": "code",
      "metadata": {
        "id": "TDr7X3QEScng",
        "colab_type": "code",
        "outputId": "b61ba4ba-91f1-4ac2-eae7-a2f92284982d",
        "colab": {
          "base_uri": "https://localhost:8080/",
          "height": 770
        }
      },
      "source": [
        "a[[\"NAVDate\",\"scheme_name\",\"NAVPrice\"]]"
      ],
      "execution_count": 0,
      "outputs": [
        {
          "output_type": "execute_result",
          "data": {
            "text/html": [
              "<div>\n",
              "<style scoped>\n",
              "    .dataframe tbody tr th:only-of-type {\n",
              "        vertical-align: middle;\n",
              "    }\n",
              "\n",
              "    .dataframe tbody tr th {\n",
              "        vertical-align: top;\n",
              "    }\n",
              "\n",
              "    .dataframe thead th {\n",
              "        text-align: right;\n",
              "    }\n",
              "</style>\n",
              "<table border=\"1\" class=\"dataframe\">\n",
              "  <thead>\n",
              "    <tr style=\"text-align: right;\">\n",
              "      <th></th>\n",
              "      <th>NAVDate</th>\n",
              "      <th>scheme_name</th>\n",
              "      <th>NAVPrice</th>\n",
              "    </tr>\n",
              "  </thead>\n",
              "  <tbody>\n",
              "    <tr>\n",
              "      <th>0</th>\n",
              "      <td>01 Jan 2019</td>\n",
              "      <td>IDBI BANKING &amp; FINANCIAL SERVICES FUND</td>\n",
              "      <td>10.02</td>\n",
              "    </tr>\n",
              "    <tr>\n",
              "      <th>1</th>\n",
              "      <td>02 Jan 2019</td>\n",
              "      <td>IDBI BANKING &amp; FINANCIAL SERVICES FUND</td>\n",
              "      <td>9.95</td>\n",
              "    </tr>\n",
              "    <tr>\n",
              "      <th>2</th>\n",
              "      <td>03 Jan 2019</td>\n",
              "      <td>IDBI BANKING &amp; FINANCIAL SERVICES FUND</td>\n",
              "      <td>9.87</td>\n",
              "    </tr>\n",
              "    <tr>\n",
              "      <th>3</th>\n",
              "      <td>04 Jan 2019</td>\n",
              "      <td>IDBI BANKING &amp; FINANCIAL SERVICES FUND</td>\n",
              "      <td>9.91</td>\n",
              "    </tr>\n",
              "    <tr>\n",
              "      <th>4</th>\n",
              "      <td>07 Jan 2019</td>\n",
              "      <td>IDBI BANKING &amp; FINANCIAL SERVICES FUND</td>\n",
              "      <td>9.87</td>\n",
              "    </tr>\n",
              "    <tr>\n",
              "      <th>5</th>\n",
              "      <td>08 Jan 2019</td>\n",
              "      <td>IDBI BANKING &amp; FINANCIAL SERVICES FUND</td>\n",
              "      <td>9.86</td>\n",
              "    </tr>\n",
              "    <tr>\n",
              "      <th>6</th>\n",
              "      <td>09 Jan 2019</td>\n",
              "      <td>IDBI BANKING &amp; FINANCIAL SERVICES FUND</td>\n",
              "      <td>9.85</td>\n",
              "    </tr>\n",
              "    <tr>\n",
              "      <th>7</th>\n",
              "      <td>10 Jan 2019</td>\n",
              "      <td>IDBI BANKING &amp; FINANCIAL SERVICES FUND</td>\n",
              "      <td>9.82</td>\n",
              "    </tr>\n",
              "    <tr>\n",
              "      <th>8</th>\n",
              "      <td>11 Jan 2019</td>\n",
              "      <td>IDBI BANKING &amp; FINANCIAL SERVICES FUND</td>\n",
              "      <td>9.79</td>\n",
              "    </tr>\n",
              "    <tr>\n",
              "      <th>9</th>\n",
              "      <td>14 Jan 2019</td>\n",
              "      <td>IDBI BANKING &amp; FINANCIAL SERVICES FUND</td>\n",
              "      <td>9.75</td>\n",
              "    </tr>\n",
              "    <tr>\n",
              "      <th>10</th>\n",
              "      <td>15 Jan 2019</td>\n",
              "      <td>IDBI BANKING &amp; FINANCIAL SERVICES FUND</td>\n",
              "      <td>9.83</td>\n",
              "    </tr>\n",
              "    <tr>\n",
              "      <th>11</th>\n",
              "      <td>16 Jan 2019</td>\n",
              "      <td>IDBI BANKING &amp; FINANCIAL SERVICES FUND</td>\n",
              "      <td>9.81</td>\n",
              "    </tr>\n",
              "    <tr>\n",
              "      <th>12</th>\n",
              "      <td>17 Jan 2019</td>\n",
              "      <td>IDBI BANKING &amp; FINANCIAL SERVICES FUND</td>\n",
              "      <td>9.83</td>\n",
              "    </tr>\n",
              "    <tr>\n",
              "      <th>13</th>\n",
              "      <td>18 Jan 2019</td>\n",
              "      <td>IDBI BANKING &amp; FINANCIAL SERVICES FUND</td>\n",
              "      <td>9.81</td>\n",
              "    </tr>\n",
              "    <tr>\n",
              "      <th>14</th>\n",
              "      <td>21 Jan 2019</td>\n",
              "      <td>IDBI BANKING &amp; FINANCIAL SERVICES FUND</td>\n",
              "      <td>9.82</td>\n",
              "    </tr>\n",
              "    <tr>\n",
              "      <th>15</th>\n",
              "      <td>22 Jan 2019</td>\n",
              "      <td>IDBI BANKING &amp; FINANCIAL SERVICES FUND</td>\n",
              "      <td>9.77</td>\n",
              "    </tr>\n",
              "    <tr>\n",
              "      <th>16</th>\n",
              "      <td>23 Jan 2019</td>\n",
              "      <td>IDBI BANKING &amp; FINANCIAL SERVICES FUND</td>\n",
              "      <td>9.71</td>\n",
              "    </tr>\n",
              "    <tr>\n",
              "      <th>17</th>\n",
              "      <td>24 Jan 2019</td>\n",
              "      <td>IDBI BANKING &amp; FINANCIAL SERVICES FUND</td>\n",
              "      <td>9.73</td>\n",
              "    </tr>\n",
              "    <tr>\n",
              "      <th>18</th>\n",
              "      <td>25 Jan 2019</td>\n",
              "      <td>IDBI BANKING &amp; FINANCIAL SERVICES FUND</td>\n",
              "      <td>9.70</td>\n",
              "    </tr>\n",
              "    <tr>\n",
              "      <th>19</th>\n",
              "      <td>28 Jan 2019</td>\n",
              "      <td>IDBI BANKING &amp; FINANCIAL SERVICES FUND</td>\n",
              "      <td>9.54</td>\n",
              "    </tr>\n",
              "    <tr>\n",
              "      <th>20</th>\n",
              "      <td>29 Jan 2019</td>\n",
              "      <td>IDBI BANKING &amp; FINANCIAL SERVICES FUND</td>\n",
              "      <td>9.51</td>\n",
              "    </tr>\n",
              "    <tr>\n",
              "      <th>21</th>\n",
              "      <td>30 Jan 2019</td>\n",
              "      <td>IDBI BANKING &amp; FINANCIAL SERVICES FUND</td>\n",
              "      <td>9.52</td>\n",
              "    </tr>\n",
              "    <tr>\n",
              "      <th>22</th>\n",
              "      <td>31 Jan 2019</td>\n",
              "      <td>IDBI BANKING &amp; FINANCIAL SERVICES FUND</td>\n",
              "      <td>9.62</td>\n",
              "    </tr>\n",
              "  </tbody>\n",
              "</table>\n",
              "</div>"
            ],
            "text/plain": [
              "        NAVDate                             scheme_name  NAVPrice\n",
              "0   01 Jan 2019  IDBI BANKING & FINANCIAL SERVICES FUND     10.02\n",
              "1   02 Jan 2019  IDBI BANKING & FINANCIAL SERVICES FUND      9.95\n",
              "2   03 Jan 2019  IDBI BANKING & FINANCIAL SERVICES FUND      9.87\n",
              "3   04 Jan 2019  IDBI BANKING & FINANCIAL SERVICES FUND      9.91\n",
              "4   07 Jan 2019  IDBI BANKING & FINANCIAL SERVICES FUND      9.87\n",
              "5   08 Jan 2019  IDBI BANKING & FINANCIAL SERVICES FUND      9.86\n",
              "6   09 Jan 2019  IDBI BANKING & FINANCIAL SERVICES FUND      9.85\n",
              "7   10 Jan 2019  IDBI BANKING & FINANCIAL SERVICES FUND      9.82\n",
              "8   11 Jan 2019  IDBI BANKING & FINANCIAL SERVICES FUND      9.79\n",
              "9   14 Jan 2019  IDBI BANKING & FINANCIAL SERVICES FUND      9.75\n",
              "10  15 Jan 2019  IDBI BANKING & FINANCIAL SERVICES FUND      9.83\n",
              "11  16 Jan 2019  IDBI BANKING & FINANCIAL SERVICES FUND      9.81\n",
              "12  17 Jan 2019  IDBI BANKING & FINANCIAL SERVICES FUND      9.83\n",
              "13  18 Jan 2019  IDBI BANKING & FINANCIAL SERVICES FUND      9.81\n",
              "14  21 Jan 2019  IDBI BANKING & FINANCIAL SERVICES FUND      9.82\n",
              "15  22 Jan 2019  IDBI BANKING & FINANCIAL SERVICES FUND      9.77\n",
              "16  23 Jan 2019  IDBI BANKING & FINANCIAL SERVICES FUND      9.71\n",
              "17  24 Jan 2019  IDBI BANKING & FINANCIAL SERVICES FUND      9.73\n",
              "18  25 Jan 2019  IDBI BANKING & FINANCIAL SERVICES FUND      9.70\n",
              "19  28 Jan 2019  IDBI BANKING & FINANCIAL SERVICES FUND      9.54\n",
              "20  29 Jan 2019  IDBI BANKING & FINANCIAL SERVICES FUND      9.51\n",
              "21  30 Jan 2019  IDBI BANKING & FINANCIAL SERVICES FUND      9.52\n",
              "22  31 Jan 2019  IDBI BANKING & FINANCIAL SERVICES FUND      9.62"
            ]
          },
          "metadata": {
            "tags": []
          },
          "execution_count": 23
        }
      ]
    },
    {
      "cell_type": "code",
      "metadata": {
        "id": "rFDhnIruSdWQ",
        "colab_type": "code",
        "colab": {}
      },
      "source": [
        "import matplotlib.pyplot as plt"
      ],
      "execution_count": 0,
      "outputs": []
    },
    {
      "cell_type": "code",
      "metadata": {
        "id": "2RP7OFa9TGdR",
        "colab_type": "code",
        "outputId": "46026e21-9422-4bba-d08e-8fd3cbbe8d43",
        "colab": {
          "base_uri": "https://localhost:8080/",
          "height": 284
        }
      },
      "source": [
        "a['NAVPrice'].plot()"
      ],
      "execution_count": 0,
      "outputs": [
        {
          "output_type": "execute_result",
          "data": {
            "text/plain": [
              "<matplotlib.axes._subplots.AxesSubplot at 0x7f81fb27eba8>"
            ]
          },
          "metadata": {
            "tags": []
          },
          "execution_count": 26
        },
        {
          "output_type": "display_data",
          "data": {
            "image/png": "[encoded data removed]",
            "text/plain": [
              "<Figure size 432x288 with 1 Axes>"
            ]
          },
          "metadata": {
            "tags": []
          }
        }
      ]
    },
    {
      "cell_type": "code",
      "metadata": {
        "id": "PATc6L5lTI3q",
        "colab_type": "code",
        "colab": {}
      },
      "source": [
        ""
      ],
      "execution_count": 0,
      "outputs": []
    }
  ]
}