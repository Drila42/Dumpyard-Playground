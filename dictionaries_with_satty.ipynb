{
  "nbformat": 4,
  "nbformat_minor": 0,
  "metadata": {
    "colab": {
      "name": "dictionaries with satty",
      "provenance": [],
      "authorship_tag": "ABX9TyNeqTdtGm6UkRIu8q4HGYuM",
      "include_colab_link": true
    },
    "kernelspec": {
      "name": "python3",
      "display_name": "Python 3"
    }
  },
  "cells": [
    {
      "cell_type": "markdown",
      "metadata": {
        "id": "view-in-github",
        "colab_type": "text"
      },
      "source": [
        "<a href=\"https://colab.research.google.com/github/Drila42/trial-1/blob/master/dictionaries_with_satty.ipynb\" target=\"_parent\"><img src=\"https://colab.research.google.com/assets/colab-badge.svg\" alt=\"Open In Colab\"/></a>"
      ]
    },
    {
      "cell_type": "code",
      "metadata": {
        "id": "CtdTOJ05uL8Y",
        "colab_type": "code",
        "colab": {
          "base_uri": "https://localhost:8080/",
          "height": 36
        },
        "outputId": "62616858-9233-4fbc-a239-fa3c70be0f57"
      },
      "source": [
        "p={\"name\":[\"drila\",\"abhy\", \"satty\", \"satwato\", \"lubby\", \"hubby\", \"mommy\"], \"sex\":\"f\",}\n",
        "type(p)"
      ],
      "execution_count": 4,
      "outputs": [
        {
          "output_type": "execute_result",
          "data": {
            "text/plain": [
              "dict"
            ]
          },
          "metadata": {
            "tags": []
          },
          "execution_count": 4
        }
      ]
    },
    {
      "cell_type": "code",
      "metadata": {
        "id": "Ae3i2nk4bSqf",
        "colab_type": "code",
        "colab": {
          "base_uri": "https://localhost:8080/",
          "height": 54
        },
        "outputId": "c7620289-576d-45ad-a17b-7aba5b3c5e9c"
      },
      "source": [
        "for keys, values in p.items():\n",
        "  print(keys, values)"
      ],
      "execution_count": 5,
      "outputs": [
        {
          "output_type": "stream",
          "text": [
            "name ['drila', 'abhy', 'satty', 'satwato', 'lubby', 'hubby', 'mommy']\n",
            "sex f\n"
          ],
          "name": "stdout"
        }
      ]
    },
    {
      "cell_type": "code",
      "metadata": {
        "id": "rNadSMBjc-xH",
        "colab_type": "code",
        "colab": {
          "base_uri": "https://localhost:8080/",
          "height": 36
        },
        "outputId": "1130fc81-a8cb-4c2c-ccce-1490e95f0e04"
      },
      "source": [
        "p.keys()"
      ],
      "execution_count": 6,
      "outputs": [
        {
          "output_type": "execute_result",
          "data": {
            "text/plain": [
              "dict_keys(['name', 'sex'])"
            ]
          },
          "metadata": {
            "tags": []
          },
          "execution_count": 6
        }
      ]
    },
    {
      "cell_type": "code",
      "metadata": {
        "id": "uyfKYTbGdwIZ",
        "colab_type": "code",
        "colab": {
          "base_uri": "https://localhost:8080/",
          "height": 36
        },
        "outputId": "b753b57a-6fa2-4717-c222-a9382ce6d395"
      },
      "source": [
        "p[\"name\"]"
      ],
      "execution_count": 8,
      "outputs": [
        {
          "output_type": "execute_result",
          "data": {
            "text/plain": [
              "['drila', 'abhy', 'satty', 'satwato', 'lubby', 'hubby', 'mommy']"
            ]
          },
          "metadata": {
            "tags": []
          },
          "execution_count": 8
        }
      ]
    },
    {
      "cell_type": "code",
      "metadata": {
        "id": "ykRWhAfWdS42",
        "colab_type": "code",
        "colab": {
          "base_uri": "https://localhost:8080/",
          "height": 36
        },
        "outputId": "0a6a8a42-1879-477c-a16f-efa60d894bb7"
      },
      "source": [
        "1 in [1, 2, 3]"
      ],
      "execution_count": 7,
      "outputs": [
        {
          "output_type": "execute_result",
          "data": {
            "text/plain": [
              "True"
            ]
          },
          "metadata": {
            "tags": []
          },
          "execution_count": 7
        }
      ]
    },
    {
      "cell_type": "code",
      "metadata": {
        "id": "vEm__UKLbtGi",
        "colab_type": "code",
        "colab": {
          "base_uri": "https://localhost:8080/",
          "height": 36
        },
        "outputId": "8dfcc020-4bf4-42c5-fbb6-72e377282255"
      },
      "source": [
        "n=\"aindrila\"\n",
        "\n",
        "d={}\n",
        "for i in range (len(n)):\n",
        "  x=n[i]\n",
        "  if x in d.keys():\n",
        "    d[x]+=1\n",
        "  else:\n",
        "    d[x]=1\n",
        "\n",
        "d"
      ],
      "execution_count": 10,
      "outputs": [
        {
          "output_type": "execute_result",
          "data": {
            "text/plain": [
              "{'a': 2, 'd': 1, 'i': 2, 'l': 1, 'n': 1, 'r': 1}"
            ]
          },
          "metadata": {
            "tags": []
          },
          "execution_count": 10
        }
      ]
    },
    {
      "cell_type": "code",
      "metadata": {
        "id": "mtoXNtw0eTHQ",
        "colab_type": "code",
        "colab": {}
      },
      "source": [
        ""
      ],
      "execution_count": 0,
      "outputs": []
    }
  ]
}