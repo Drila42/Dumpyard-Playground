{
  "nbformat": 4,
  "nbformat_minor": 0,
  "metadata": {
    "colab": {
      "name": "Udemy_Boolean_section 2",
      "provenance": [],
      "authorship_tag": "ABX9TyNxTFKnMYY2sDwQ6r1pb3MZ",
      "include_colab_link": true
    },
    "kernelspec": {
      "name": "python3",
      "display_name": "Python 3"
    }
  },
  "cells": [
    {
      "cell_type": "markdown",
      "metadata": {
        "id": "view-in-github",
        "colab_type": "text"
      },
      "source": [
        "<a href=\"https://colab.research.google.com/github/Drila42/trial-1/blob/master/Udemy_Boolean_section_2.ipynb\" target=\"_parent\"><img src=\"https://colab.research.google.com/assets/colab-badge.svg\" alt=\"Open In Colab\"/></a>"
      ]
    },
    {
      "cell_type": "code",
      "metadata": {
        "id": "8zai4hsQGG3b",
        "colab_type": "code",
        "outputId": "4871c107-2251-4235-aec5-c30f6a3cf1cd",
        "colab": {
          "base_uri": "https://localhost:8080/",
          "height": 36
        }
      },
      "source": [
        "b=True\n",
        "type(b)"
      ],
      "execution_count": 0,
      "outputs": [
        {
          "output_type": "execute_result",
          "data": {
            "text/plain": [
              "bool"
            ]
          },
          "metadata": {
            "tags": []
          },
          "execution_count": 1
        }
      ]
    },
    {
      "cell_type": "code",
      "metadata": {
        "id": "Ax_GAwFLGXab",
        "colab_type": "code",
        "outputId": "9674c87c-7b75-4c7e-dac3-41353d98683a",
        "colab": {
          "base_uri": "https://localhost:8080/",
          "height": 36
        }
      },
      "source": [
        "n1=8\n",
        "n2=5\n",
        "\n",
        "n1>n2\n"
      ],
      "execution_count": 0,
      "outputs": [
        {
          "output_type": "execute_result",
          "data": {
            "text/plain": [
              "True"
            ]
          },
          "metadata": {
            "tags": []
          },
          "execution_count": 2
        }
      ]
    },
    {
      "cell_type": "code",
      "metadata": {
        "id": "HvvAEAifGsGZ",
        "colab_type": "code",
        "outputId": "e9764cac-b9f0-4218-9eb3-0d687b62fd1c",
        "colab": {
          "base_uri": "https://localhost:8080/",
          "height": 36
        }
      },
      "source": [
        "n1>=n2"
      ],
      "execution_count": 0,
      "outputs": [
        {
          "output_type": "execute_result",
          "data": {
            "text/plain": [
              "True"
            ]
          },
          "metadata": {
            "tags": []
          },
          "execution_count": 3
        }
      ]
    },
    {
      "cell_type": "code",
      "metadata": {
        "id": "Xa2wxOy7G0Op",
        "colab_type": "code",
        "outputId": "58d2258d-c0f5-43be-cbc3-15f1f9630eb1",
        "colab": {
          "base_uri": "https://localhost:8080/",
          "height": 36
        }
      },
      "source": [
        "n1==n2"
      ],
      "execution_count": 0,
      "outputs": [
        {
          "output_type": "execute_result",
          "data": {
            "text/plain": [
              "False"
            ]
          },
          "metadata": {
            "tags": []
          },
          "execution_count": 4
        }
      ]
    },
    {
      "cell_type": "code",
      "metadata": {
        "id": "5vFrW9fpG3iH",
        "colab_type": "code",
        "outputId": "310fc9e2-52fc-43e0-ad79-04d53c63095a",
        "colab": {
          "base_uri": "https://localhost:8080/",
          "height": 36
        }
      },
      "source": [
        "n1!=n2"
      ],
      "execution_count": 0,
      "outputs": [
        {
          "output_type": "execute_result",
          "data": {
            "text/plain": [
              "True"
            ]
          },
          "metadata": {
            "tags": []
          },
          "execution_count": 5
        }
      ]
    },
    {
      "cell_type": "code",
      "metadata": {
        "id": "4u83o6mCG9sI",
        "colab_type": "code",
        "outputId": "a2ab7a00-36bb-4308-c169-e96dd4783292",
        "colab": {
          "base_uri": "https://localhost:8080/",
          "height": 54
        }
      },
      "source": [
        "a1=21\n",
        "a2=int(input(\"emter your age:\"))\n",
        "\n",
        "if a1>a2:\n",
        "  print(\"you are younger to me\")\n",
        "elif a1<a2:\n",
        "  print(\"you are elder to me\")\n",
        "else:\n",
        "  print(\"both are of equal age\")\n",
        "\n",
        "\n"
      ],
      "execution_count": 0,
      "outputs": [
        {
          "output_type": "stream",
          "text": [
            "emter your age:21\n",
            "both are of equal age\n"
          ],
          "name": "stdout"
        }
      ]
    },
    {
      "cell_type": "code",
      "metadata": {
        "id": "oYrX88CXIYW2",
        "colab_type": "code",
        "colab": {}
      },
      "source": [
        ""
      ],
      "execution_count": 0,
      "outputs": []
    }
  ]
}