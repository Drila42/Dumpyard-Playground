{
  "nbformat": 4,
  "nbformat_minor": 0,
  "metadata": {
    "colab": {
      "name": "Udemy_Data Validation",
      "provenance": [],
      "authorship_tag": "ABX9TyPzKXJKpCEPKHL8hJb/vX97",
      "include_colab_link": true
    },
    "kernelspec": {
      "name": "python3",
      "display_name": "Python 3"
    }
  },
  "cells": [
    {
      "cell_type": "markdown",
      "metadata": {
        "id": "view-in-github",
        "colab_type": "text"
      },
      "source": [
        "<a href=\"https://colab.research.google.com/github/Drila42/trial-1/blob/master/Udemy_Data_Validation.ipynb\" target=\"_parent\"><img src=\"https://colab.research.google.com/assets/colab-badge.svg\" alt=\"Open In Colab\"/></a>"
      ]
    },
    {
      "cell_type": "code",
      "metadata": {
        "id": "RpeGUnuOhecL",
        "colab_type": "code",
        "colab": {
          "base_uri": "https://localhost:8080/",
          "height": 294
        },
        "outputId": "ab5c9362-3817-4c69-8a42-c730332f4617"
      },
      "source": [
        "test=False\n",
        "\n",
        "while test==False:\n",
        "  g1=int(input(\"enter the grades of maths:\"))\n",
        "  if g1<0 or g1>10:\n",
        "    print(\"Grades should be between 0 to 10\")\n",
        "    continue\n",
        "  else:\n",
        "    test=True\n",
        "\n",
        "test=False\n",
        "\n",
        "while test==False:\n",
        "  g2=int(input(\"enter the grades of english:\"))\n",
        "  if g2<0 or g2>10:\n",
        "    print(\"Grades should be between 0 to 10\")\n",
        "    continue\n",
        "  else:\n",
        "    test=True\n",
        "\n",
        "\n",
        "print(g1,g2)"
      ],
      "execution_count": 4,
      "outputs": [
        {
          "output_type": "stream",
          "text": [
            "enter the grades of maths:65\n",
            "Grades should be between 0 to 10\n",
            "enter the grades of maths:78\n",
            "Grades should be between 0 to 10\n",
            "enter the grades of maths:-56\n",
            "Grades should be between 0 to 10\n",
            "enter the grades of maths:5\n",
            "enter the grades of english:45\n",
            "Grades should be between 0 to 10\n",
            "enter the grades of english:76\n",
            "Grades should be between 0 to 10\n",
            "enter the grades of english:-34\n",
            "Grades should be between 0 to 10\n",
            "enter the grades of english:7\n",
            "5 7\n"
          ],
          "name": "stdout"
        }
      ]
    },
    {
      "cell_type": "code",
      "metadata": {
        "id": "H2ualdadhtIb",
        "colab_type": "code",
        "colab": {}
      },
      "source": [
        ""
      ],
      "execution_count": 0,
      "outputs": []
    }
  ]
}