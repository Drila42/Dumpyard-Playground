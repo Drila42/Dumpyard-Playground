{
  "nbformat": 4,
  "nbformat_minor": 0,
  "metadata": {
    "colab": {
      "name": "Time+Matplotlib Exercise",
      "provenance": [],
      "authorship_tag": "ABX9TyPFrY0cyMJPSPyfkMdfC2BM",
      "include_colab_link": true
    },
    "kernelspec": {
      "name": "python3",
      "display_name": "Python 3"
    }
  },
  "cells": [
    {
      "cell_type": "markdown",
      "metadata": {
        "id": "view-in-github",
        "colab_type": "text"
      },
      "source": [
        "<a href=\"https://colab.research.google.com/github/Drila42/trial-1/blob/master/Time%2BMatplotlib_Exercise.ipynb\" target=\"_parent\"><img src=\"https://colab.research.google.com/assets/colab-badge.svg\" alt=\"Open In Colab\"/></a>"
      ]
    },
    {
      "cell_type": "code",
      "metadata": {
        "id": "6NPThlob826C",
        "colab_type": "code",
        "colab": {}
      },
      "source": [
        "import matplotlib as mpl\n",
        "import matplotlib.pyplot as plt\n",
        "import time as t"
      ],
      "execution_count": 0,
      "outputs": []
    },
    {
      "cell_type": "code",
      "metadata": {
        "id": "7auY3yQR9zZp",
        "colab_type": "code",
        "colab": {
          "base_uri": "https://localhost:8080/",
          "height": 427
        },
        "outputId": "d87de855-2b9d-4bd8-9785-1541fa002e28"
      },
      "source": [
        "times=[]\n",
        "mistakes = 0\n",
        "\n",
        "print(\"Write the word 'program' 5 times\")\n",
        "\n",
        "while len(times)<5:\n",
        "  start=t.time()\n",
        "  a=input()\n",
        "  end=t.time()\n",
        "  net=end-start\n",
        "  times.append(net)\n",
        "\n",
        "  if a.lower()!='program':\n",
        "    mistakes+=1\n",
        "\n",
        "print(\"you made\", mistakes,\"mistakes\")\n",
        "print(\"now let's see your evolution\")\n",
        "t.sleep(3)\n",
        "\n",
        "x=[1,2,3,4,5]\n",
        "y=times\n",
        "plt.plot(x,y)\n",
        "plt.xlabel(\"Attempts\")\n",
        "plt.ylabel(\"Time in seconds\")\n",
        "plt.show()\n"
      ],
      "execution_count": 7,
      "outputs": [
        {
          "output_type": "stream",
          "text": [
            "Write the word 'program' 5 times\n",
            "program\n",
            "program\n",
            "jdfk\n",
            "\n",
            "hdb\n",
            "you made 3 mistakes\n",
            "now let's see your evolution\n"
          ],
          "name": "stdout"
        },
        {
          "output_type": "display_data",
          "data": {
            "image/png": "[encoded data removed]",
            "text/plain": [
              "<Figure size 432x288 with 1 Axes>"
            ]
          },
          "metadata": {
            "tags": []
          }
        }
      ]
    },
    {
      "cell_type": "code",
      "metadata": {
        "id": "Qpu4hst--9-i",
        "colab_type": "code",
        "colab": {}
      },
      "source": [
        ""
      ],
      "execution_count": 0,
      "outputs": []
    }
  ]
}