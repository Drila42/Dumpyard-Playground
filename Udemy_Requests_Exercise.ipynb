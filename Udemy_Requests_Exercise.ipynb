{
  "nbformat": 4,
  "nbformat_minor": 0,
  "metadata": {
    "colab": {
      "name": "Udemy_Requests_Exercise",
      "provenance": [],
      "authorship_tag": "ABX9TyOWeZ6r46WlMNPlPNoSAQJw",
      "include_colab_link": true
    },
    "kernelspec": {
      "name": "python3",
      "display_name": "Python 3"
    }
  },
  "cells": [
    {
      "cell_type": "markdown",
      "metadata": {
        "id": "view-in-github",
        "colab_type": "text"
      },
      "source": [
        "<a href=\"https://colab.research.google.com/github/Drila42/trial-1/blob/master/Udemy_Requests_Exercise.ipynb\" target=\"_parent\"><img src=\"https://colab.research.google.com/assets/colab-badge.svg\" alt=\"Open In Colab\"/></a>"
      ]
    },
    {
      "cell_type": "code",
      "metadata": {
        "id": "atvIwKyYeQzk",
        "colab_type": "code",
        "outputId": "b5d36a87-aceb-4963-a9df-ca14435b9aa4",
        "colab": {
          "base_uri": "https://localhost:8080/",
          "height": 109
        }
      },
      "source": [
        "pip install requests"
      ],
      "execution_count": 1,
      "outputs": [
        {
          "output_type": "stream",
          "text": [
            "Requirement already satisfied: requests in /usr/local/lib/python3.6/dist-packages (2.21.0)\n",
            "Requirement already satisfied: certifi>=2017.4.17 in /usr/local/lib/python3.6/dist-packages (from requests) (2019.11.28)\n",
            "Requirement already satisfied: chardet<3.1.0,>=3.0.2 in /usr/local/lib/python3.6/dist-packages (from requests) (3.0.4)\n",
            "Requirement already satisfied: idna<2.9,>=2.5 in /usr/local/lib/python3.6/dist-packages (from requests) (2.8)\n",
            "Requirement already satisfied: urllib3<1.25,>=1.21.1 in /usr/local/lib/python3.6/dist-packages (from requests) (1.24.3)\n"
          ],
          "name": "stdout"
        }
      ]
    },
    {
      "cell_type": "code",
      "metadata": {
        "id": "q0ayPUyGeYvJ",
        "colab_type": "code",
        "outputId": "0044423c-efe3-4dda-d1cc-8b942fca3a9d",
        "colab": {
          "base_uri": "https://localhost:8080/",
          "height": 55
        }
      },
      "source": [
        "import requests\n",
        "import json\n",
        "import random\n",
        "import html\n",
        "\n",
        "r=requests.get(\"https://opentdb.com/api.php?amount=10&category=31&difficulty=easy&type=multiple\")\n",
        "r.text"
      ],
      "execution_count": 2,
      "outputs": [
        {
          "output_type": "execute_result",
          "data": {
            "text/plain": [
              "'{\"response_code\":0,\"results\":[{\"category\":\"Entertainment: Japanese Anime & Manga\",\"type\":\"multiple\",\"difficulty\":\"easy\",\"question\":\"Which anime heavily features music from the genre &quot;Eurobeat&quot;?\",\"correct_answer\":\"Initial D\",\"incorrect_answers\":[\"Wangan Midnight\",\"Kino no Tabi\",\"Cowboy Bebop\"]},{\"category\":\"Entertainment: Japanese Anime & Manga\",\"type\":\"multiple\",\"difficulty\":\"easy\",\"question\":\"What is the last name of Edward and Alphonse in the Fullmetal Alchemist series.\",\"correct_answer\":\"Elric\",\"incorrect_answers\":[\"Ellis\",\"Eliek\",\"Elwood\"]},{\"category\":\"Entertainment: Japanese Anime & Manga\",\"type\":\"multiple\",\"difficulty\":\"easy\",\"question\":\"What is the name of the stuffed lion in Bleach?\",\"correct_answer\":\"Kon\",\"incorrect_answers\":[\"Jo\",\"Urdiu\",\"Chad\"]},{\"category\":\"Entertainment: Japanese Anime & Manga\",\"type\":\"multiple\",\"difficulty\":\"easy\",\"question\":\"The name of Junko Enoshima&#039;s imposter at the beginning of Danganronpa: Trigger Happy Havoc is?\",\"correct_answer\":\"Mukuro Ikusaba\",\"incorrect_answers\":[\"Ryota Mitarai\",\"Ultimate Imposter\",\"Komaru Naegi\"]},{\"category\":\"Entertainment: Japanese Anime & Manga\",\"type\":\"multiple\",\"difficulty\":\"easy\",\"question\":\"In the anime Black Butler, who is betrothed to be married to Ciel Phantomhive?\",\"correct_answer\":\"Elizabeth Midford\",\"incorrect_answers\":[\"Rachel Phantomhive\",\"Alexis Leon Midford\",\"Angelina Dalles\"]},{\"category\":\"Entertainment: Japanese Anime & Manga\",\"type\":\"multiple\",\"difficulty\":\"easy\",\"question\":\"On what medium was &quot;Clannad&quot; first created?\",\"correct_answer\":\"Visual novel\",\"incorrect_answers\":[\"Anime\",\"Manga\",\"Light novel\"]},{\"category\":\"Entertainment: Japanese Anime & Manga\",\"type\":\"multiple\",\"difficulty\":\"easy\",\"question\":\"The two main characters of &quot;No Game No Life&quot;, Sora and Shiro, together go by what name?\",\"correct_answer\":\"Blank\",\"incorrect_answers\":[\"Immanity\",\"Disboard\",\"Warbeasts\"]},{\"category\":\"Entertainment: Japanese Anime & Manga\",\"type\":\"multiple\",\"difficulty\":\"easy\",\"question\":\"Which of the following originated as a manga?\",\"correct_answer\":\"Akira\",\"incorrect_answers\":[\"Cowboy Bebop\",\"High School DxD\",\"Gurren Lagann\"]},{\"category\":\"Entertainment: Japanese Anime & Manga\",\"type\":\"multiple\",\"difficulty\":\"easy\",\"question\":\"In &quot;To Love-Ru&quot;, Ren and Run are from what planet?\",\"correct_answer\":\"Memorze\",\"incorrect_answers\":[\"Deviluke\",\"Mistletoe\",\"Okiwana\"]},{\"category\":\"Entertainment: Japanese Anime & Manga\",\"type\":\"multiple\",\"difficulty\":\"easy\",\"question\":\"Who is the main heroine of the anime, Full Metal Panic!\",\"correct_answer\":\"Kaname Chidori\",\"incorrect_answers\":[\"Teletha Testarossa\",\"Melissa Mao\",\"Kyoko Tokiwa\"]}]}'"
            ]
          },
          "metadata": {
            "tags": []
          },
          "execution_count": 2
        }
      ]
    },
    {
      "cell_type": "code",
      "metadata": {
        "id": "JvHx1vtTej4v",
        "colab_type": "code",
        "outputId": "3abcc6b8-525f-4968-f7f5-ebb6436b5cda",
        "colab": {
          "base_uri": "https://localhost:8080/",
          "height": 1000
        }
      },
      "source": [
        "q=json.loads(r.text)\n",
        "q"
      ],
      "execution_count": 3,
      "outputs": [
        {
          "output_type": "execute_result",
          "data": {
            "text/plain": [
              "{'response_code': 0,\n",
              " 'results': [{'category': 'Entertainment: Japanese Anime & Manga',\n",
              "   'correct_answer': 'Initial D',\n",
              "   'difficulty': 'easy',\n",
              "   'incorrect_answers': ['Wangan Midnight', 'Kino no Tabi', 'Cowboy Bebop'],\n",
              "   'question': 'Which anime heavily features music from the genre &quot;Eurobeat&quot;?',\n",
              "   'type': 'multiple'},\n",
              "  {'category': 'Entertainment: Japanese Anime & Manga',\n",
              "   'correct_answer': 'Elric',\n",
              "   'difficulty': 'easy',\n",
              "   'incorrect_answers': ['Ellis', 'Eliek', 'Elwood'],\n",
              "   'question': 'What is the last name of Edward and Alphonse in the Fullmetal Alchemist series.',\n",
              "   'type': 'multiple'},\n",
              "  {'category': 'Entertainment: Japanese Anime & Manga',\n",
              "   'correct_answer': 'Kon',\n",
              "   'difficulty': 'easy',\n",
              "   'incorrect_answers': ['Jo', 'Urdiu', 'Chad'],\n",
              "   'question': 'What is the name of the stuffed lion in Bleach?',\n",
              "   'type': 'multiple'},\n",
              "  {'category': 'Entertainment: Japanese Anime & Manga',\n",
              "   'correct_answer': 'Mukuro Ikusaba',\n",
              "   'difficulty': 'easy',\n",
              "   'incorrect_answers': ['Ryota Mitarai', 'Ultimate Imposter', 'Komaru Naegi'],\n",
              "   'question': 'The name of Junko Enoshima&#039;s imposter at the beginning of Danganronpa: Trigger Happy Havoc is?',\n",
              "   'type': 'multiple'},\n",
              "  {'category': 'Entertainment: Japanese Anime & Manga',\n",
              "   'correct_answer': 'Elizabeth Midford',\n",
              "   'difficulty': 'easy',\n",
              "   'incorrect_answers': ['Rachel Phantomhive',\n",
              "    'Alexis Leon Midford',\n",
              "    'Angelina Dalles'],\n",
              "   'question': 'In the anime Black Butler, who is betrothed to be married to Ciel Phantomhive?',\n",
              "   'type': 'multiple'},\n",
              "  {'category': 'Entertainment: Japanese Anime & Manga',\n",
              "   'correct_answer': 'Visual novel',\n",
              "   'difficulty': 'easy',\n",
              "   'incorrect_answers': ['Anime', 'Manga', 'Light novel'],\n",
              "   'question': 'On what medium was &quot;Clannad&quot; first created?',\n",
              "   'type': 'multiple'},\n",
              "  {'category': 'Entertainment: Japanese Anime & Manga',\n",
              "   'correct_answer': 'Blank',\n",
              "   'difficulty': 'easy',\n",
              "   'incorrect_answers': ['Immanity', 'Disboard', 'Warbeasts'],\n",
              "   'question': 'The two main characters of &quot;No Game No Life&quot;, Sora and Shiro, together go by what name?',\n",
              "   'type': 'multiple'},\n",
              "  {'category': 'Entertainment: Japanese Anime & Manga',\n",
              "   'correct_answer': 'Akira',\n",
              "   'difficulty': 'easy',\n",
              "   'incorrect_answers': ['Cowboy Bebop', 'High School DxD', 'Gurren Lagann'],\n",
              "   'question': 'Which of the following originated as a manga?',\n",
              "   'type': 'multiple'},\n",
              "  {'category': 'Entertainment: Japanese Anime & Manga',\n",
              "   'correct_answer': 'Memorze',\n",
              "   'difficulty': 'easy',\n",
              "   'incorrect_answers': ['Deviluke', 'Mistletoe', 'Okiwana'],\n",
              "   'question': 'In &quot;To Love-Ru&quot;, Ren and Run are from what planet?',\n",
              "   'type': 'multiple'},\n",
              "  {'category': 'Entertainment: Japanese Anime & Manga',\n",
              "   'correct_answer': 'Kaname Chidori',\n",
              "   'difficulty': 'easy',\n",
              "   'incorrect_answers': ['Teletha Testarossa', 'Melissa Mao', 'Kyoko Tokiwa'],\n",
              "   'question': 'Who is the main heroine of the anime, Full Metal Panic!',\n",
              "   'type': 'multiple'}]}"
            ]
          },
          "metadata": {
            "tags": []
          },
          "execution_count": 3
        }
      ]
    },
    {
      "cell_type": "code",
      "metadata": {
        "id": "S5Pb90rge0Bb",
        "colab_type": "code",
        "outputId": "beecdacf-0a1f-4a35-b153-972a64108616",
        "colab": {
          "base_uri": "https://localhost:8080/",
          "height": 35
        }
      },
      "source": [
        "print(\"Let's start the quiz\")"
      ],
      "execution_count": 4,
      "outputs": [
        {
          "output_type": "stream",
          "text": [
            "Let's start the quiz\n"
          ],
          "name": "stdout"
        }
      ]
    },
    {
      "cell_type": "code",
      "metadata": {
        "id": "9n7ULCR0e78w",
        "colab_type": "code",
        "outputId": "5c213426-fb6a-44dc-8095-fc14ed9f78eb",
        "colab": {
          "base_uri": "https://localhost:8080/",
          "height": 35
        }
      },
      "source": [
        "print(\"The category is :\", q['results'][0]['category'])"
      ],
      "execution_count": 5,
      "outputs": [
        {
          "output_type": "stream",
          "text": [
            "The category is : Entertainment: Japanese Anime & Manga\n"
          ],
          "name": "stdout"
        }
      ]
    },
    {
      "cell_type": "code",
      "metadata": {
        "id": "pCKrbaIQfdGq",
        "colab_type": "code",
        "outputId": "8217e7f5-17dd-4deb-fd7b-d3b2c6949902",
        "colab": {
          "base_uri": "https://localhost:8080/",
          "height": 1000
        }
      },
      "source": [
        "for i in range (9):\n",
        "  ques=q['results'][i]['question']\n",
        "  choice=q['results'][i]['incorrect_answers']\n",
        "  ans=q['results'][i]['correct_answer']\n",
        "  choice.append(ans)\n",
        "  random.shuffle(choice)\n",
        "  print(\"\\n\")\n",
        "  print(\"The question is :\", html.unescape(ques), \"\\n\")\n",
        "  a=1\n",
        "  for c in choice:\n",
        "    print(a,\"-\",c)\n",
        "    a+=1\n",
        "\n",
        "  user=int(input(\"\\n Type the correct answer\"))\n",
        "  userans=choice[(int(user)-1)]\n",
        "\n",
        "  if userans == ans:\n",
        "    print(\"Congratulations. You got the Correct Answer:\", ans)\n",
        "  else:\n",
        "    print(\"Sorry, you got the wrong answer. The correct answer is:\", ans)\n",
        "\n",
        "  \n"
      ],
      "execution_count": 6,
      "outputs": [
        {
          "output_type": "stream",
          "text": [
            "The question is : Which anime heavily features music from the genre \"Eurobeat\"? \n",
            "\n",
            "1 - Initial D\n",
            "2 - Kino no Tabi\n",
            "3 - Cowboy Bebop\n",
            "4 - Wangan Midnight\n",
            "\n",
            " Type the correct answer1\n",
            "Congratulations. You got the Correct Answer: Initial D\n",
            "The question is : What is the last name of Edward and Alphonse in the Fullmetal Alchemist series. \n",
            "\n",
            "1 - Eliek\n",
            "2 - Elric\n",
            "3 - Elwood\n",
            "4 - Ellis\n",
            "\n",
            " Type the correct answer2\n",
            "Congratulations. You got the Correct Answer: Elric\n",
            "The question is : What is the name of the stuffed lion in Bleach? \n",
            "\n",
            "1 - Chad\n",
            "2 - Kon\n",
            "3 - Urdiu\n",
            "4 - Jo\n",
            "\n",
            " Type the correct answer2\n",
            "Congratulations. You got the Correct Answer: Kon\n",
            "The question is : The name of Junko Enoshima's imposter at the beginning of Danganronpa: Trigger Happy Havoc is? \n",
            "\n",
            "1 - Mukuro Ikusaba\n",
            "2 - Ultimate Imposter\n",
            "3 - Komaru Naegi\n",
            "4 - Ryota Mitarai\n",
            "\n",
            " Type the correct answer1\n",
            "Congratulations. You got the Correct Answer: Mukuro Ikusaba\n",
            "The question is : In the anime Black Butler, who is betrothed to be married to Ciel Phantomhive? \n",
            "\n",
            "1 - Rachel Phantomhive\n",
            "2 - Elizabeth Midford\n",
            "3 - Angelina Dalles\n",
            "4 - Alexis Leon Midford\n",
            "\n",
            " Type the correct answer4\n",
            "Sorry, you got the wrong answer. The correct answer is: Elizabeth Midford\n",
            "The question is : On what medium was \"Clannad\" first created? \n",
            "\n",
            "1 - Light novel\n",
            "2 - Manga\n",
            "3 - Visual novel\n",
            "4 - Anime\n",
            "\n",
            " Type the correct answer3\n",
            "Congratulations. You got the Correct Answer: Visual novel\n",
            "The question is : The two main characters of \"No Game No Life\", Sora and Shiro, together go by what name? \n",
            "\n",
            "1 - Blank\n",
            "2 - Disboard\n",
            "3 - Immanity\n",
            "4 - Warbeasts\n",
            "\n",
            " Type the correct answer1\n",
            "Congratulations. You got the Correct Answer: Blank\n",
            "The question is : Which of the following originated as a manga? \n",
            "\n",
            "1 - Akira\n",
            "2 - High School DxD\n",
            "3 - Cowboy Bebop\n",
            "4 - Gurren Lagann\n",
            "\n",
            " Type the correct answer2\n",
            "Sorry, you got the wrong answer. The correct answer is: Akira\n",
            "The question is : In \"To Love-Ru\", Ren and Run are from what planet? \n",
            "\n",
            "1 - Okiwana\n",
            "2 - Deviluke\n",
            "3 - Mistletoe\n",
            "4 - Memorze\n",
            "\n",
            " Type the correct answer4\n",
            "Congratulations. You got the Correct Answer: Memorze\n"
          ],
          "name": "stdout"
        }
      ]
    },
    {
      "cell_type": "code",
      "metadata": {
        "id": "a1hkxL8cmEgI",
        "colab_type": "code",
        "colab": {}
      },
      "source": [
        ""
      ],
      "execution_count": 0,
      "outputs": []
    }
  ]
}