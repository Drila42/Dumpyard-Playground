{
  "nbformat": 4,
  "nbformat_minor": 0,
  "metadata": {
    "colab": {
      "name": "Udemy_Function",
      "provenance": [],
      "authorship_tag": "ABX9TyMSIIOUH3oXHmFG92bDlZH5",
      "include_colab_link": true
    },
    "kernelspec": {
      "name": "python3",
      "display_name": "Python 3"
    }
  },
  "cells": [
    {
      "cell_type": "markdown",
      "metadata": {
        "id": "view-in-github",
        "colab_type": "text"
      },
      "source": [
        "<a href=\"https://colab.research.google.com/github/Drila42/trial-1/blob/master/Udemy_Function.ipynb\" target=\"_parent\"><img src=\"https://colab.research.google.com/assets/colab-badge.svg\" alt=\"Open In Colab\"/></a>"
      ]
    },
    {
      "cell_type": "code",
      "metadata": {
        "id": "W1IDSrteUxcc",
        "colab_type": "code",
        "colab": {}
      },
      "source": [
        "def f1():\n",
        "  print(\"hi\")\n"
      ],
      "execution_count": 0,
      "outputs": []
    },
    {
      "cell_type": "code",
      "metadata": {
        "id": "W37lf4AnVAxj",
        "colab_type": "code",
        "colab": {
          "base_uri": "https://localhost:8080/",
          "height": 72
        },
        "outputId": "629816c4-f905-43f7-9bdc-d019bccc24a8"
      },
      "source": [
        "\n",
        "f1()\n",
        "f1()\n",
        "f1()\n"
      ],
      "execution_count": 3,
      "outputs": [
        {
          "output_type": "stream",
          "text": [
            "hi\n",
            "hi\n",
            "hi\n"
          ],
          "name": "stdout"
        }
      ]
    },
    {
      "cell_type": "code",
      "metadata": {
        "id": "zZ3Lh2mzVKWh",
        "colab_type": "code",
        "colab": {}
      },
      "source": [
        "def f2(name):\n",
        "  print(\"hi\", name, \"how are you ?\")"
      ],
      "execution_count": 0,
      "outputs": []
    },
    {
      "cell_type": "code",
      "metadata": {
        "id": "sdt5GXW-VV-X",
        "colab_type": "code",
        "colab": {
          "base_uri": "https://localhost:8080/",
          "height": 72
        },
        "outputId": "7e0e9e31-76d8-401c-a7a7-7df8a653cc80"
      },
      "source": [
        "f2(\"andy\")\n",
        "f2(\"Satty\")\n",
        "f2(\"Soumi\")"
      ],
      "execution_count": 6,
      "outputs": [
        {
          "output_type": "stream",
          "text": [
            "hi andy how are you ?\n",
            "hi Satty how are you ?\n",
            "hi Soumi how are you ?\n"
          ],
          "name": "stdout"
        }
      ]
    },
    {
      "cell_type": "code",
      "metadata": {
        "id": "5v27jwZhVdco",
        "colab_type": "code",
        "colab": {}
      },
      "source": [
        "def fahr2cel(fahr):\n",
        "  cel=(5*(fahr-32))/9\n",
        "  return(cel)"
      ],
      "execution_count": 0,
      "outputs": []
    },
    {
      "cell_type": "code",
      "metadata": {
        "id": "X43Y3PE9V8Q9",
        "colab_type": "code",
        "colab": {
          "base_uri": "https://localhost:8080/",
          "height": 54
        },
        "outputId": "b150ce47-6e78-41ef-d3c9-7367ea7934e0"
      },
      "source": [
        "\n",
        "print(\"celsius:\", round(fahr2cel(325),2))\n",
        "print(\"kelvin:\", round(fahr2cel(325)+273,2))"
      ],
      "execution_count": 15,
      "outputs": [
        {
          "output_type": "stream",
          "text": [
            "celsius: 162.78\n",
            "kelvin: 435.78\n"
          ],
          "name": "stdout"
        }
      ]
    },
    {
      "cell_type": "code",
      "metadata": {
        "id": "PLexy_0lWJ8y",
        "colab_type": "code",
        "colab": {
          "base_uri": "https://localhost:8080/",
          "height": 35
        },
        "outputId": "9846fc7a-fe04-4e14-82ab-4ca31accda5c"
      },
      "source": [
        "def f4(name1,name2):\n",
        "  print(\"hi\", name1, \"how are you ?\", name2, \"was looking for you\")\n",
        "\n",
        "f4(\"john\", \"the boss\")"
      ],
      "execution_count": 16,
      "outputs": [
        {
          "output_type": "stream",
          "text": [
            "hi john how are you ? the boss was looking for you\n"
          ],
          "name": "stdout"
        }
      ]
    },
    {
      "cell_type": "code",
      "metadata": {
        "id": "URtEAJn3X8Pk",
        "colab_type": "code",
        "colab": {
          "base_uri": "https://localhost:8080/",
          "height": 35
        },
        "outputId": "e596930a-6442-49e7-bbae-105a253ecfbc"
      },
      "source": [
        "def f4(name1,name2='The Director'):\n",
        "  print(\"hi\", name1, \"how are you ?\", name2, \"was looking for you\")\n",
        "\n",
        "f4(\"john\")"
      ],
      "execution_count": 17,
      "outputs": [
        {
          "output_type": "stream",
          "text": [
            "hi john how are you ? The Director was looking for you\n"
          ],
          "name": "stdout"
        }
      ]
    },
    {
      "cell_type": "code",
      "metadata": {
        "id": "7QLMqoQFYELE",
        "colab_type": "code",
        "colab": {}
      },
      "source": [
        ""
      ],
      "execution_count": 0,
      "outputs": []
    }
  ]
}