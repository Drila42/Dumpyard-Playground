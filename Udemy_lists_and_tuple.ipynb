{
  "nbformat": 4,
  "nbformat_minor": 0,
  "metadata": {
    "colab": {
      "name": "Udemy_lists and tuple",
      "provenance": [],
      "authorship_tag": "ABX9TyPLPfcXJMLQA0kOnZetT5xJ",
      "include_colab_link": true
    },
    "kernelspec": {
      "name": "python3",
      "display_name": "Python 3"
    }
  },
  "cells": [
    {
      "cell_type": "markdown",
      "metadata": {
        "id": "view-in-github",
        "colab_type": "text"
      },
      "source": [
        "<a href=\"https://colab.research.google.com/github/Drila42/trial-1/blob/master/Udemy_lists_and_tuple.ipynb\" target=\"_parent\"><img src=\"https://colab.research.google.com/assets/colab-badge.svg\" alt=\"Open In Colab\"/></a>"
      ]
    },
    {
      "cell_type": "code",
      "metadata": {
        "id": "RegnUIc0khmP",
        "colab_type": "code",
        "colab": {
          "base_uri": "https://localhost:8080/",
          "height": 36
        },
        "outputId": "bc8c0c1c-7df2-413a-df0f-5238f8c488fa"
      },
      "source": [
        "students=[\"john\", \"mary\", \"kim\"]\n",
        "len(students)"
      ],
      "execution_count": 1,
      "outputs": [
        {
          "output_type": "execute_result",
          "data": {
            "text/plain": [
              "3"
            ]
          },
          "metadata": {
            "tags": []
          },
          "execution_count": 1
        }
      ]
    },
    {
      "cell_type": "code",
      "metadata": {
        "id": "-JGu0v3Skto6",
        "colab_type": "code",
        "colab": {
          "base_uri": "https://localhost:8080/",
          "height": 36
        },
        "outputId": "6a3e4973-859a-4624-e317-4bc60aedceab"
      },
      "source": [
        "type(students)"
      ],
      "execution_count": 2,
      "outputs": [
        {
          "output_type": "execute_result",
          "data": {
            "text/plain": [
              "list"
            ]
          },
          "metadata": {
            "tags": []
          },
          "execution_count": 2
        }
      ]
    },
    {
      "cell_type": "code",
      "metadata": {
        "id": "iUMUlRBTk3vZ",
        "colab_type": "code",
        "colab": {
          "base_uri": "https://localhost:8080/",
          "height": 36
        },
        "outputId": "de02f228-6ed7-4940-a6fe-60c6c5999805"
      },
      "source": [
        "students[0]"
      ],
      "execution_count": 3,
      "outputs": [
        {
          "output_type": "execute_result",
          "data": {
            "text/plain": [
              "'john'"
            ]
          },
          "metadata": {
            "tags": []
          },
          "execution_count": 3
        }
      ]
    },
    {
      "cell_type": "code",
      "metadata": {
        "id": "t6WfuvVgk51z",
        "colab_type": "code",
        "colab": {
          "base_uri": "https://localhost:8080/",
          "height": 36
        },
        "outputId": "27f0c951-031c-4628-de50-dd245bbc5345"
      },
      "source": [
        "students[-1]"
      ],
      "execution_count": 4,
      "outputs": [
        {
          "output_type": "execute_result",
          "data": {
            "text/plain": [
              "'kim'"
            ]
          },
          "metadata": {
            "tags": []
          },
          "execution_count": 4
        }
      ]
    },
    {
      "cell_type": "code",
      "metadata": {
        "id": "fH9ZFwUqk8D9",
        "colab_type": "code",
        "colab": {
          "base_uri": "https://localhost:8080/",
          "height": 36
        },
        "outputId": "dae93582-7a8b-4b78-802c-dc07ceae07e3"
      },
      "source": [
        "students[:2]"
      ],
      "execution_count": 5,
      "outputs": [
        {
          "output_type": "execute_result",
          "data": {
            "text/plain": [
              "['john', 'mary']"
            ]
          },
          "metadata": {
            "tags": []
          },
          "execution_count": 5
        }
      ]
    },
    {
      "cell_type": "markdown",
      "metadata": {
        "id": "B0n36ajIljB3",
        "colab_type": "text"
      },
      "source": [
        "## TUPLES"
      ]
    },
    {
      "cell_type": "code",
      "metadata": {
        "id": "YrMF_acblDjx",
        "colab_type": "code",
        "colab": {}
      },
      "source": [
        "months=(\"jan\", \"feb\", \"march\") #now that becomes a tuple. In tuples you cannot add or subtract datas"
      ],
      "execution_count": 0,
      "outputs": []
    },
    {
      "cell_type": "code",
      "metadata": {
        "id": "Uhg2h980lNhq",
        "colab_type": "code",
        "colab": {
          "base_uri": "https://localhost:8080/",
          "height": 36
        },
        "outputId": "77f14cc7-a1ad-4fea-be33-b8dce57bf300"
      },
      "source": [
        "months[0]"
      ],
      "execution_count": 7,
      "outputs": [
        {
          "output_type": "execute_result",
          "data": {
            "text/plain": [
              "'jan'"
            ]
          },
          "metadata": {
            "tags": []
          },
          "execution_count": 7
        }
      ]
    },
    {
      "cell_type": "markdown",
      "metadata": {
        "id": "_8yLRmQelk5O",
        "colab_type": "text"
      },
      "source": [
        "## CHNAGE THE ELEMSNT OF YOUR LISTS"
      ]
    },
    {
      "cell_type": "code",
      "metadata": {
        "id": "HI2FAVTXlX1a",
        "colab_type": "code",
        "colab": {
          "base_uri": "https://localhost:8080/",
          "height": 36
        },
        "outputId": "c36f1747-53fb-4b36-d198-48970bf726a8"
      },
      "source": [
        "students"
      ],
      "execution_count": 8,
      "outputs": [
        {
          "output_type": "execute_result",
          "data": {
            "text/plain": [
              "['john', 'mary', 'kim']"
            ]
          },
          "metadata": {
            "tags": []
          },
          "execution_count": 8
        }
      ]
    },
    {
      "cell_type": "code",
      "metadata": {
        "id": "rVoNtTxulrcU",
        "colab_type": "code",
        "colab": {}
      },
      "source": [
        "students[0]=\"andy\""
      ],
      "execution_count": 0,
      "outputs": []
    },
    {
      "cell_type": "code",
      "metadata": {
        "id": "y09XHojYlut2",
        "colab_type": "code",
        "colab": {
          "base_uri": "https://localhost:8080/",
          "height": 36
        },
        "outputId": "1ee141b9-e337-41ec-e29e-ccca32dd31a0"
      },
      "source": [
        "students"
      ],
      "execution_count": 10,
      "outputs": [
        {
          "output_type": "execute_result",
          "data": {
            "text/plain": [
              "['andy', 'mary', 'kim']"
            ]
          },
          "metadata": {
            "tags": []
          },
          "execution_count": 10
        }
      ]
    },
    {
      "cell_type": "code",
      "metadata": {
        "id": "Uirwnapylv9O",
        "colab_type": "code",
        "colab": {}
      },
      "source": [
        "#this won't be possible in tuples. I have tried but that shows an error\n"
      ],
      "execution_count": 0,
      "outputs": []
    },
    {
      "cell_type": "code",
      "metadata": {
        "id": "L08BgeMPl8T7",
        "colab_type": "code",
        "colab": {
          "base_uri": "https://localhost:8080/",
          "height": 174
        },
        "outputId": "0a6d7da0-6522-404b-85d3-96e2365d2605"
      },
      "source": [
        "months[0]=\"gandu\""
      ],
      "execution_count": 11,
      "outputs": [
        {
          "output_type": "error",
          "ename": "TypeError",
          "evalue": "ignored",
          "traceback": [
            "\u001b[0;31m---------------------------------------------------------------------------\u001b[0m",
            "\u001b[0;31mTypeError\u001b[0m                                 Traceback (most recent call last)",
            "\u001b[0;32m<ipython-input-11-8933c45c1da8>\u001b[0m in \u001b[0;36m<module>\u001b[0;34m()\u001b[0m\n\u001b[0;32m----> 1\u001b[0;31m \u001b[0mmonths\u001b[0m\u001b[0;34m[\u001b[0m\u001b[0;36m0\u001b[0m\u001b[0;34m]\u001b[0m\u001b[0;34m=\u001b[0m\u001b[0;34m\"gandu\"\u001b[0m\u001b[0;34m\u001b[0m\u001b[0;34m\u001b[0m\u001b[0m\n\u001b[0m",
            "\u001b[0;31mTypeError\u001b[0m: 'tuple' object does not support item assignment"
          ]
        }
      ]
    },
    {
      "cell_type": "markdown",
      "metadata": {
        "id": "DNxvC3jkmJJe",
        "colab_type": "text"
      },
      "source": [
        "## APPEND FUNCTION"
      ]
    },
    {
      "cell_type": "code",
      "metadata": {
        "id": "6LWrZ7jmnUzu",
        "colab_type": "code",
        "colab": {
          "base_uri": "https://localhost:8080/",
          "height": 36
        },
        "outputId": "e1832e49-9687-47af-cd23-3ca54bc60417"
      },
      "source": [
        "students"
      ],
      "execution_count": 12,
      "outputs": [
        {
          "output_type": "execute_result",
          "data": {
            "text/plain": [
              "['andy', 'mary', 'kim']"
            ]
          },
          "metadata": {
            "tags": []
          },
          "execution_count": 12
        }
      ]
    },
    {
      "cell_type": "code",
      "metadata": {
        "id": "RS9Y0MXknVml",
        "colab_type": "code",
        "colab": {}
      },
      "source": [
        "stu=students"
      ],
      "execution_count": 0,
      "outputs": []
    },
    {
      "cell_type": "code",
      "metadata": {
        "id": "sl4tiRZMnXlg",
        "colab_type": "code",
        "colab": {
          "base_uri": "https://localhost:8080/",
          "height": 36
        },
        "outputId": "c8b9968f-f02b-4355-89d7-f8ab4335d8d6"
      },
      "source": [
        "stu"
      ],
      "execution_count": 14,
      "outputs": [
        {
          "output_type": "execute_result",
          "data": {
            "text/plain": [
              "['andy', 'mary', 'kim']"
            ]
          },
          "metadata": {
            "tags": []
          },
          "execution_count": 14
        }
      ]
    },
    {
      "cell_type": "code",
      "metadata": {
        "id": "knO7_AFInYYh",
        "colab_type": "code",
        "colab": {}
      },
      "source": [
        "stu.append(\"satty\")"
      ],
      "execution_count": 0,
      "outputs": []
    },
    {
      "cell_type": "code",
      "metadata": {
        "id": "vQyNm7vbnaxO",
        "colab_type": "code",
        "colab": {
          "base_uri": "https://localhost:8080/",
          "height": 36
        },
        "outputId": "946de7e3-9f07-4dd6-b154-97efba2cbdc5"
      },
      "source": [
        "stu"
      ],
      "execution_count": 16,
      "outputs": [
        {
          "output_type": "execute_result",
          "data": {
            "text/plain": [
              "['andy', 'mary', 'kim', 'satty']"
            ]
          },
          "metadata": {
            "tags": []
          },
          "execution_count": 16
        }
      ]
    },
    {
      "cell_type": "code",
      "metadata": {
        "id": "7l4XP-2fnbqm",
        "colab_type": "code",
        "colab": {}
      },
      "source": [
        "stu.insert(2,\"aindrila\") #add the name in the index"
      ],
      "execution_count": 0,
      "outputs": []
    },
    {
      "cell_type": "code",
      "metadata": {
        "id": "VZR1h6hJnosA",
        "colab_type": "code",
        "colab": {
          "base_uri": "https://localhost:8080/",
          "height": 36
        },
        "outputId": "180d3e61-3262-4ed8-818f-e8dbb1c43f9c"
      },
      "source": [
        "stu"
      ],
      "execution_count": 18,
      "outputs": [
        {
          "output_type": "execute_result",
          "data": {
            "text/plain": [
              "['andy', 'mary', 'aindrila', 'kim', 'satty']"
            ]
          },
          "metadata": {
            "tags": []
          },
          "execution_count": 18
        }
      ]
    },
    {
      "cell_type": "code",
      "metadata": {
        "id": "U8L6hFnKnprH",
        "colab_type": "code",
        "colab": {
          "base_uri": "https://localhost:8080/",
          "height": 36
        },
        "outputId": "cf94fe5e-76f4-4e90-a972-74a0e92c79e4"
      },
      "source": [
        "stu.pop() #removes the last element and shows"
      ],
      "execution_count": 19,
      "outputs": [
        {
          "output_type": "execute_result",
          "data": {
            "text/plain": [
              "'satty'"
            ]
          },
          "metadata": {
            "tags": []
          },
          "execution_count": 19
        }
      ]
    },
    {
      "cell_type": "code",
      "metadata": {
        "id": "tMLmrXP5nzJ9",
        "colab_type": "code",
        "colab": {
          "base_uri": "https://localhost:8080/",
          "height": 36
        },
        "outputId": "188ce806-1f83-4563-ae11-7c66e2bff8b4"
      },
      "source": [
        "stu"
      ],
      "execution_count": 20,
      "outputs": [
        {
          "output_type": "execute_result",
          "data": {
            "text/plain": [
              "['andy', 'mary', 'aindrila', 'kim']"
            ]
          },
          "metadata": {
            "tags": []
          },
          "execution_count": 20
        }
      ]
    },
    {
      "cell_type": "code",
      "metadata": {
        "id": "pxAIZyHTn3Ii",
        "colab_type": "code",
        "colab": {
          "base_uri": "https://localhost:8080/",
          "height": 36
        },
        "outputId": "c7812fa9-90e3-4aad-eb23-2d023d2f9a37"
      },
      "source": [
        "stu.pop(2)#we can remove from the index mentioned"
      ],
      "execution_count": 21,
      "outputs": [
        {
          "output_type": "execute_result",
          "data": {
            "text/plain": [
              "'aindrila'"
            ]
          },
          "metadata": {
            "tags": []
          },
          "execution_count": 21
        }
      ]
    },
    {
      "cell_type": "code",
      "metadata": {
        "id": "xd0a-bpan_wi",
        "colab_type": "code",
        "colab": {
          "base_uri": "https://localhost:8080/",
          "height": 36
        },
        "outputId": "797d7a79-a3e8-4f6e-cc24-d721d4f36878"
      },
      "source": [
        "stu"
      ],
      "execution_count": 22,
      "outputs": [
        {
          "output_type": "execute_result",
          "data": {
            "text/plain": [
              "['andy', 'mary', 'kim']"
            ]
          },
          "metadata": {
            "tags": []
          },
          "execution_count": 22
        }
      ]
    },
    {
      "cell_type": "code",
      "metadata": {
        "id": "fwVnU7HyoBF_",
        "colab_type": "code",
        "colab": {}
      },
      "source": [
        "stu.remove(\"mary\") #remove the value"
      ],
      "execution_count": 0,
      "outputs": []
    },
    {
      "cell_type": "code",
      "metadata": {
        "id": "cSgQaYYQoSPa",
        "colab_type": "code",
        "colab": {
          "base_uri": "https://localhost:8080/",
          "height": 36
        },
        "outputId": "21f679c1-b81e-4f6e-993c-14bcdcc46675"
      },
      "source": [
        "stu"
      ],
      "execution_count": 24,
      "outputs": [
        {
          "output_type": "execute_result",
          "data": {
            "text/plain": [
              "['andy', 'kim']"
            ]
          },
          "metadata": {
            "tags": []
          },
          "execution_count": 24
        }
      ]
    },
    {
      "cell_type": "code",
      "metadata": {
        "id": "B9Y_omgioTT2",
        "colab_type": "code",
        "colab": {}
      },
      "source": [
        "stu2=[\"dad\", \"mom\"]"
      ],
      "execution_count": 0,
      "outputs": []
    },
    {
      "cell_type": "code",
      "metadata": {
        "id": "Kb-husoUoXtr",
        "colab_type": "code",
        "colab": {
          "base_uri": "https://localhost:8080/",
          "height": 36
        },
        "outputId": "5ae394a0-843d-435f-b460-2d9e6f98b631"
      },
      "source": [
        "stu + stu2"
      ],
      "execution_count": 26,
      "outputs": [
        {
          "output_type": "execute_result",
          "data": {
            "text/plain": [
              "['andy', 'kim', 'dad', 'mom']"
            ]
          },
          "metadata": {
            "tags": []
          },
          "execution_count": 26
        }
      ]
    },
    {
      "cell_type": "markdown",
      "metadata": {
        "id": "r_IZ_Rqxoku4",
        "colab_type": "text"
      },
      "source": [
        "## EXERCISE"
      ]
    },
    {
      "cell_type": "code",
      "metadata": {
        "id": "hA_LrGvgoZV9",
        "colab_type": "code",
        "colab": {
          "base_uri": "https://localhost:8080/",
          "height": 54
        },
        "outputId": "5f61b997-3696-4c81-fe70-45a7129f9670"
      },
      "source": [
        "\n",
        "d=input(\"give the date in format dd-mm-yyyy:\")\n",
        "m=[\"January\", \"feb\", \"march\", \"april\", \"may\", \"june\", \"july\", \"aug\", \"sept\", \"oct\", \"nov\", \"dec\"]\n",
        "x=int(d[3:5])\n",
        "\n",
        "print(\"you were born in\", m[x-1])\n"
      ],
      "execution_count": 29,
      "outputs": [
        {
          "output_type": "stream",
          "text": [
            "give the date in format dd-mm-yyyy:04-03-1997\n",
            "you were born in march\n"
          ],
          "name": "stdout"
        }
      ]
    },
    {
      "cell_type": "code",
      "metadata": {
        "id": "EvTGyCU5p0Xj",
        "colab_type": "code",
        "colab": {
          "base_uri": "https://localhost:8080/",
          "height": 54
        },
        "outputId": "f03d4da8-3a2c-43e1-ec18-c216ec26836f"
      },
      "source": [
        "a=[\"abhy\", \"arghya\", \"satty\"]\n",
        "\n",
        "a.append(input(\"add a name:\"))\n",
        "a"
      ],
      "execution_count": 32,
      "outputs": [
        {
          "output_type": "stream",
          "text": [
            "add a name:drila\n"
          ],
          "name": "stdout"
        },
        {
          "output_type": "execute_result",
          "data": {
            "text/plain": [
              "['abhy', 'arghya', 'satty', 'drila']"
            ]
          },
          "metadata": {
            "tags": []
          },
          "execution_count": 32
        }
      ]
    },
    {
      "cell_type": "code",
      "metadata": {
        "id": "otsecjZrq3aD",
        "colab_type": "code",
        "colab": {}
      },
      "source": [
        ""
      ],
      "execution_count": 0,
      "outputs": []
    }
  ]
}