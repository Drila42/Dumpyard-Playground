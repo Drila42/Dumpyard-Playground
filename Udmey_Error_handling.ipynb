{
  "nbformat": 4,
  "nbformat_minor": 0,
  "metadata": {
    "colab": {
      "name": "Udmey_Error handling",
      "provenance": [],
      "authorship_tag": "ABX9TyMsi5nKAAqgActxAMyOwUbU",
      "include_colab_link": true
    },
    "kernelspec": {
      "name": "python3",
      "display_name": "Python 3"
    }
  },
  "cells": [
    {
      "cell_type": "markdown",
      "metadata": {
        "id": "view-in-github",
        "colab_type": "text"
      },
      "source": [
        "<a href=\"https://colab.research.google.com/github/Drila42/trial-1/blob/master/Udmey_Error_handling.ipynb\" target=\"_parent\"><img src=\"https://colab.research.google.com/assets/colab-badge.svg\" alt=\"Open In Colab\"/></a>"
      ]
    },
    {
      "cell_type": "code",
      "metadata": {
        "id": "7XO0ZxNkQxL8",
        "colab_type": "code",
        "outputId": "e1f97b6c-fb0f-4523-ad1d-f590e2109386",
        "colab": {
          "base_uri": "https://localhost:8080/",
          "height": 54
        }
      },
      "source": [
        "num=input(\"Enter a number\")\n",
        "try:\n",
        "  num=float(num)\n",
        "  print(\"the number is :\", num)\n",
        "except:\n",
        "  print(\"Invalid number\")"
      ],
      "execution_count": 0,
      "outputs": [
        {
          "output_type": "stream",
          "text": [
            "Enter a numbertyb\n",
            "Invalid number\n"
          ],
          "name": "stdout"
        }
      ]
    },
    {
      "cell_type": "markdown",
      "metadata": {
        "id": "BfrdGuynRlFa",
        "colab_type": "text"
      },
      "source": [
        "## Exercise"
      ]
    },
    {
      "cell_type": "code",
      "metadata": {
        "id": "kz4IK7wJRV4K",
        "colab_type": "code",
        "colab": {
          "base_uri": "https://localhost:8080/",
          "height": 183
        },
        "outputId": "08bea4d2-da77-4f63-a40c-3237945c38a1"
      },
      "source": [
        "test=False\n",
        "\n",
        "while test==False:\n",
        "  g1=input(\"enter the grades of maths:\")\n",
        "\n",
        "  try:\n",
        "    g1=float(g1)\n",
        "  except:\n",
        "    print(\"invalid\")\n",
        "    continue\n",
        "\n",
        "  if g1<0 or g1>10:\n",
        "    print(\"Grades should be between 0 to 10\")\n",
        "    continue\n",
        "  else:\n",
        "    test=True\n",
        "\n",
        "test=False\n",
        "\n",
        "while test==False:\n",
        "  g2=input(\"enter the grades of english:\")\n",
        "  \n",
        "  try:\n",
        "    g2=float(g2)\n",
        "  except:\n",
        "    print(\"invalid\")\n",
        "    continue\n",
        "\n",
        "  if g2<0 or g2>10:\n",
        "    print(\"Grades should be between 0 to 10\")\n",
        "    continue\n",
        "  else:\n",
        "    test=True\n",
        "\n",
        "\n",
        "print(g1,g2)"
      ],
      "execution_count": 4,
      "outputs": [
        {
          "output_type": "stream",
          "text": [
            "enter the grades of maths:56\n",
            "Grades should be between 0 to 10\n",
            "enter the grades of maths:hj\n",
            "invalid\n",
            "enter the grades of maths:5\n",
            "enter the grades of english:98\n",
            "Grades should be between 0 to 10\n",
            "enter the grades of english:4\n",
            "5.0 4.0\n"
          ],
          "name": "stdout"
        }
      ]
    },
    {
      "cell_type": "code",
      "metadata": {
        "id": "dQJW4yqyR5yS",
        "colab_type": "code",
        "colab": {}
      },
      "source": [
        "g1=input(\"enter the grades of maths:\")\n",
        "\n",
        "try:\n",
        "  g1=int(g1)\n",
        "  print(\"The number of grade1 is :\", g1)\n",
        "except:\n",
        "  print(\"invalid\")\n",
        "\n"
      ],
      "execution_count": 0,
      "outputs": []
    }
  ]
}