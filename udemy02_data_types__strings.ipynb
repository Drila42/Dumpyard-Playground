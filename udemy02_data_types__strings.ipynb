{
  "nbformat": 4,
  "nbformat_minor": 0,
  "metadata": {
    "colab": {
      "name": "udemy02. data types _strings",
      "provenance": [],
      "authorship_tag": "ABX9TyOo8q2mWXbRPIyN9VesInC7",
      "include_colab_link": true
    },
    "kernelspec": {
      "name": "python3",
      "display_name": "Python 3"
    }
  },
  "cells": [
    {
      "cell_type": "markdown",
      "metadata": {
        "id": "view-in-github",
        "colab_type": "text"
      },
      "source": [
        "<a href=\"https://colab.research.google.com/github/Drila42/trial-1/blob/master/udemy02_data_types__strings.ipynb\" target=\"_parent\"><img src=\"https://colab.research.google.com/assets/colab-badge.svg\" alt=\"Open In Colab\"/></a>"
      ]
    },
    {
      "cell_type": "markdown",
      "metadata": {
        "id": "9YxIUCxgQKi7",
        "colab_type": "text"
      },
      "source": [
        "## EXERCISE"
      ]
    },
    {
      "cell_type": "code",
      "metadata": {
        "id": "ZSsvSdMlPQE8",
        "colab_type": "code",
        "colab": {
          "base_uri": "https://localhost:8080/",
          "height": 92
        },
        "outputId": "d67ca75b-6a99-4c96-e660-ef2f0315020e"
      },
      "source": [
        "f=input(\"enter your first name:\")\n",
        "m=input(\"enter your midlle name:\")\n",
        "l=m=input(\"enter your last name:\")\n",
        "\n",
        "print(\"your initials are\" + \" \" + f[0]+ m[0]+l[0])"
      ],
      "execution_count": 1,
      "outputs": [
        {
          "output_type": "stream",
          "text": [
            "enter your first name:aindrila\n",
            "enter your midlle name:dey\n",
            "enter your last name:das\n",
            "your initials are add\n"
          ],
          "name": "stdout"
        }
      ]
    },
    {
      "cell_type": "code",
      "metadata": {
        "id": "z80rIpWVXipK",
        "colab_type": "code",
        "colab": {
          "base_uri": "https://localhost:8080/",
          "height": 36
        },
        "outputId": "9731c2d2-62c4-4b27-decb-0834d1385322"
      },
      "source": [
        "o='aindrila'\n",
        "o[0].upper()"
      ],
      "execution_count": 7,
      "outputs": [
        {
          "output_type": "execute_result",
          "data": {
            "text/plain": [
              "'A'"
            ]
          },
          "metadata": {
            "tags": []
          },
          "execution_count": 7
        }
      ]
    },
    {
      "cell_type": "code",
      "metadata": {
        "id": "rteDrLHdaaZo",
        "colab_type": "code",
        "colab": {
          "base_uri": "https://localhost:8080/",
          "height": 36
        },
        "outputId": "decfa68e-077d-4b41-a0e7-e72e1bfdde32"
      },
      "source": [
        ""
      ],
      "execution_count": 8,
      "outputs": [
        {
          "output_type": "execute_result",
          "data": {
            "text/plain": [
              "5.57"
            ]
          },
          "metadata": {
            "tags": []
          },
          "execution_count": 8
        }
      ]
    },
    {
      "cell_type": "code",
      "metadata": {
        "id": "S9vMxgVjadUd",
        "colab_type": "code",
        "colab": {}
      },
      "source": [
        ""
      ],
      "execution_count": 0,
      "outputs": []
    }
  ]
}