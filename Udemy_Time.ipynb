{
  "nbformat": 4,
  "nbformat_minor": 0,
  "metadata": {
    "colab": {
      "name": "Udemy_Time",
      "provenance": [],
      "authorship_tag": "ABX9TyM7tdHhpQhbz2PGnn9cNYYy",
      "include_colab_link": true
    },
    "kernelspec": {
      "name": "python3",
      "display_name": "Python 3"
    }
  },
  "cells": [
    {
      "cell_type": "markdown",
      "metadata": {
        "id": "view-in-github",
        "colab_type": "text"
      },
      "source": [
        "<a href=\"https://colab.research.google.com/github/Drila42/trial-1/blob/master/Udemy_Time.ipynb\" target=\"_parent\"><img src=\"https://colab.research.google.com/assets/colab-badge.svg\" alt=\"Open In Colab\"/></a>"
      ]
    },
    {
      "cell_type": "code",
      "metadata": {
        "id": "HDLlYBlJYVA2",
        "colab_type": "code",
        "colab": {
          "base_uri": "https://localhost:8080/",
          "height": 35
        },
        "outputId": "a98811d3-a2c0-4b29-b651-4ed091964fc2"
      },
      "source": [
        "import time as t\n",
        "current=t.localtime()\n",
        "print(\"The program got complete at\",current.tm_hour, \"h\", current.tm_min, \"m\" )"
      ],
      "execution_count": 3,
      "outputs": [
        {
          "output_type": "stream",
          "text": [
            "The program got complete at 21 h 29 m\n"
          ],
          "name": "stdout"
        }
      ]
    },
    {
      "cell_type": "code",
      "metadata": {
        "id": "kD_UMpqkYhvh",
        "colab_type": "code",
        "colab": {
          "base_uri": "https://localhost:8080/",
          "height": 35
        },
        "outputId": "df6780a0-df8d-4634-94ea-22743850a2aa"
      },
      "source": [
        "t.time()\n"
      ],
      "execution_count": 4,
      "outputs": [
        {
          "output_type": "execute_result",
          "data": {
            "text/plain": [
              "1586208624.9226866"
            ]
          },
          "metadata": {
            "tags": []
          },
          "execution_count": 4
        }
      ]
    },
    {
      "cell_type": "code",
      "metadata": {
        "id": "QqeE5vmXZs2X",
        "colab_type": "code",
        "colab": {
          "base_uri": "https://localhost:8080/",
          "height": 35
        },
        "outputId": "4f9a2d86-d865-417a-eda1-083f7d588a89"
      },
      "source": [
        "t.time()"
      ],
      "execution_count": 5,
      "outputs": [
        {
          "output_type": "execute_result",
          "data": {
            "text/plain": [
              "1586208633.7975588"
            ]
          },
          "metadata": {
            "tags": []
          },
          "execution_count": 5
        }
      ]
    },
    {
      "cell_type": "code",
      "metadata": {
        "id": "bAHDqa9lZvEO",
        "colab_type": "code",
        "colab": {
          "base_uri": "https://localhost:8080/",
          "height": 54
        },
        "outputId": "018e186f-2ed7-4de2-eff3-48d96876698b"
      },
      "source": [
        "current=t.time()\n",
        "delivery=current + (7*24*60*60)\n",
        "print(t.localtime(delivery))\n",
        "print(current)"
      ],
      "execution_count": 8,
      "outputs": [
        {
          "output_type": "stream",
          "text": [
            "time.struct_time(tm_year=2020, tm_mon=4, tm_mday=13, tm_hour=21, tm_min=36, tm_sec=46, tm_wday=0, tm_yday=104, tm_isdst=0)\n",
            "1586209006.6644044\n"
          ],
          "name": "stdout"
        }
      ]
    },
    {
      "cell_type": "code",
      "metadata": {
        "id": "6qYSC3GMa7_g",
        "colab_type": "code",
        "colab": {
          "base_uri": "https://localhost:8080/",
          "height": 54
        },
        "outputId": "b76e7548-6da1-4608-ea6d-197540e4cf76"
      },
      "source": [
        "print(\"test\")\n",
        "t.sleep(5) #you cannot execute the next iteration for 5 seconds\n",
        "print(\"printing after 5 seconds\")"
      ],
      "execution_count": 10,
      "outputs": [
        {
          "output_type": "stream",
          "text": [
            "test\n",
            "printing after 5 seconds\n"
          ],
          "name": "stdout"
        }
      ]
    },
    {
      "cell_type": "code",
      "metadata": {
        "id": "zQiTQe3FbYDD",
        "colab_type": "code",
        "colab": {}
      },
      "source": [
        ""
      ],
      "execution_count": 0,
      "outputs": []
    }
  ]
}